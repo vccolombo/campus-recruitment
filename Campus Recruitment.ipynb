{
 "cells": [
  {
   "cell_type": "code",
   "execution_count": 1,
   "metadata": {
    "_cell_guid": "b1076dfc-b9ad-4769-8c92-a6c4dae69d19",
    "_uuid": "8f2839f25d086af736a60e9eeb907d3b93b6e0e5"
   },
   "outputs": [],
   "source": [
    "import numpy as np\n",
    "import pandas as pd\n",
    "import seaborn as sns\n",
    "import matplotlib.pyplot as plt\n",
    "from sklearn.preprocessing import LabelEncoder, PolynomialFeatures\n",
    "from sklearn.model_selection import train_test_split, StratifiedKFold, cross_val_score, GridSearchCV\n",
    "from sklearn.linear_model import LogisticRegression\n",
    "from sklearn.neighbors import KNeighborsClassifier\n",
    "from sklearn.tree import DecisionTreeClassifier\n",
    "from sklearn.svm import SVC\n",
    "from sklearn.ensemble import GradientBoostingClassifier, RandomForestClassifier\n",
    "from sklearn.linear_model import LinearRegression\n",
    "from sklearn.metrics import accuracy_score, classification_report, mean_squared_error, r2_score\n",
    "from imblearn.over_sampling import SMOTE\n",
    "\n",
    "import warnings\n",
    "# warnings.filterwarnings(\"ignore\")"
   ]
  },
  {
   "cell_type": "markdown",
   "metadata": {},
   "source": [
    "# The Problem\n",
    "\n",
    "Find what are the major factors that lead to the best job opportunities for graduates from this institution.\n",
    "\n",
    "## Questions\n",
    "\n",
    "- What are the major factors that lead to the person being hired\n",
    "    - Metrics: Accurately predict if a person will be hired or not\n",
    "- What impacts the most on the salary\n",
    "    - Metrics: Expected salary\n",
    "- Can the institution predict if the person will get good results in the MBA before they are accepted?\n",
    "    - Metrics: The scores in the course and likelihood of the person being hired\n",
    "    \n",
    "    \n",
    "  \n",
    "## Why?\n",
    "\n",
    "### Benefits for the person:\n",
    "    \n",
    "The person will be able to know beforehand on what to focus to get the best results (placement/salary).\n",
    "\n",
    "### Benefits for the institution:\n",
    "\n",
    "The instituion may be able to better select its students, reducing failures and placing its students in the best market positions. It might lead to a higher renown for the institution.\n",
    "\n",
    "Also, the instituion may use the information to better prepare the course, focusing on the most important things to the market."
   ]
  },
  {
   "cell_type": "code",
   "execution_count": 2,
   "metadata": {},
   "outputs": [
    {
     "data": {
      "text/html": [
       "<div>\n",
       "<style scoped>\n",
       "    .dataframe tbody tr th:only-of-type {\n",
       "        vertical-align: middle;\n",
       "    }\n",
       "\n",
       "    .dataframe tbody tr th {\n",
       "        vertical-align: top;\n",
       "    }\n",
       "\n",
       "    .dataframe thead th {\n",
       "        text-align: right;\n",
       "    }\n",
       "</style>\n",
       "<table border=\"1\" class=\"dataframe\">\n",
       "  <thead>\n",
       "    <tr style=\"text-align: right;\">\n",
       "      <th></th>\n",
       "      <th>SerialNumber</th>\n",
       "      <th>Gender</th>\n",
       "      <th>LowerSecondarySchollGrade%</th>\n",
       "      <th>LowerSecondarySchollBoard</th>\n",
       "      <th>HigherSecondarySchollGrade%</th>\n",
       "      <th>HigherSecondarySchollBoard</th>\n",
       "      <th>HigherSecondarySchollSpecialization</th>\n",
       "      <th>DegreeGrade%</th>\n",
       "      <th>DegreeSpecialization</th>\n",
       "      <th>WorkExperience</th>\n",
       "      <th>EmployabilityTestGrade%</th>\n",
       "      <th>MBASpecialization</th>\n",
       "      <th>MBAGrade%</th>\n",
       "      <th>PlacementStatus</th>\n",
       "      <th>Salary</th>\n",
       "    </tr>\n",
       "  </thead>\n",
       "  <tbody>\n",
       "    <tr>\n",
       "      <th>0</th>\n",
       "      <td>1</td>\n",
       "      <td>M</td>\n",
       "      <td>67.00</td>\n",
       "      <td>Others</td>\n",
       "      <td>91.00</td>\n",
       "      <td>Others</td>\n",
       "      <td>Commerce</td>\n",
       "      <td>58.00</td>\n",
       "      <td>Sci&amp;Tech</td>\n",
       "      <td>No</td>\n",
       "      <td>55.00</td>\n",
       "      <td>Mkt&amp;HR</td>\n",
       "      <td>58.80</td>\n",
       "      <td>Placed</td>\n",
       "      <td>270000.0</td>\n",
       "    </tr>\n",
       "    <tr>\n",
       "      <th>1</th>\n",
       "      <td>2</td>\n",
       "      <td>M</td>\n",
       "      <td>79.33</td>\n",
       "      <td>Central</td>\n",
       "      <td>78.33</td>\n",
       "      <td>Others</td>\n",
       "      <td>Science</td>\n",
       "      <td>77.48</td>\n",
       "      <td>Sci&amp;Tech</td>\n",
       "      <td>Yes</td>\n",
       "      <td>86.50</td>\n",
       "      <td>Mkt&amp;Fin</td>\n",
       "      <td>66.28</td>\n",
       "      <td>Placed</td>\n",
       "      <td>200000.0</td>\n",
       "    </tr>\n",
       "    <tr>\n",
       "      <th>2</th>\n",
       "      <td>3</td>\n",
       "      <td>M</td>\n",
       "      <td>65.00</td>\n",
       "      <td>Central</td>\n",
       "      <td>68.00</td>\n",
       "      <td>Central</td>\n",
       "      <td>Arts</td>\n",
       "      <td>64.00</td>\n",
       "      <td>Comm&amp;Mgmt</td>\n",
       "      <td>No</td>\n",
       "      <td>75.00</td>\n",
       "      <td>Mkt&amp;Fin</td>\n",
       "      <td>57.80</td>\n",
       "      <td>Placed</td>\n",
       "      <td>250000.0</td>\n",
       "    </tr>\n",
       "    <tr>\n",
       "      <th>3</th>\n",
       "      <td>4</td>\n",
       "      <td>M</td>\n",
       "      <td>56.00</td>\n",
       "      <td>Central</td>\n",
       "      <td>52.00</td>\n",
       "      <td>Central</td>\n",
       "      <td>Science</td>\n",
       "      <td>52.00</td>\n",
       "      <td>Sci&amp;Tech</td>\n",
       "      <td>No</td>\n",
       "      <td>66.00</td>\n",
       "      <td>Mkt&amp;HR</td>\n",
       "      <td>59.43</td>\n",
       "      <td>Not Placed</td>\n",
       "      <td>NaN</td>\n",
       "    </tr>\n",
       "    <tr>\n",
       "      <th>4</th>\n",
       "      <td>5</td>\n",
       "      <td>M</td>\n",
       "      <td>85.80</td>\n",
       "      <td>Central</td>\n",
       "      <td>73.60</td>\n",
       "      <td>Central</td>\n",
       "      <td>Commerce</td>\n",
       "      <td>73.30</td>\n",
       "      <td>Comm&amp;Mgmt</td>\n",
       "      <td>No</td>\n",
       "      <td>96.80</td>\n",
       "      <td>Mkt&amp;Fin</td>\n",
       "      <td>55.50</td>\n",
       "      <td>Placed</td>\n",
       "      <td>425000.0</td>\n",
       "    </tr>\n",
       "    <tr>\n",
       "      <th>5</th>\n",
       "      <td>6</td>\n",
       "      <td>M</td>\n",
       "      <td>55.00</td>\n",
       "      <td>Others</td>\n",
       "      <td>49.80</td>\n",
       "      <td>Others</td>\n",
       "      <td>Science</td>\n",
       "      <td>67.25</td>\n",
       "      <td>Sci&amp;Tech</td>\n",
       "      <td>Yes</td>\n",
       "      <td>55.00</td>\n",
       "      <td>Mkt&amp;Fin</td>\n",
       "      <td>51.58</td>\n",
       "      <td>Not Placed</td>\n",
       "      <td>NaN</td>\n",
       "    </tr>\n",
       "    <tr>\n",
       "      <th>6</th>\n",
       "      <td>7</td>\n",
       "      <td>F</td>\n",
       "      <td>46.00</td>\n",
       "      <td>Others</td>\n",
       "      <td>49.20</td>\n",
       "      <td>Others</td>\n",
       "      <td>Commerce</td>\n",
       "      <td>79.00</td>\n",
       "      <td>Comm&amp;Mgmt</td>\n",
       "      <td>No</td>\n",
       "      <td>74.28</td>\n",
       "      <td>Mkt&amp;Fin</td>\n",
       "      <td>53.29</td>\n",
       "      <td>Not Placed</td>\n",
       "      <td>NaN</td>\n",
       "    </tr>\n",
       "    <tr>\n",
       "      <th>7</th>\n",
       "      <td>8</td>\n",
       "      <td>M</td>\n",
       "      <td>82.00</td>\n",
       "      <td>Central</td>\n",
       "      <td>64.00</td>\n",
       "      <td>Central</td>\n",
       "      <td>Science</td>\n",
       "      <td>66.00</td>\n",
       "      <td>Sci&amp;Tech</td>\n",
       "      <td>Yes</td>\n",
       "      <td>67.00</td>\n",
       "      <td>Mkt&amp;Fin</td>\n",
       "      <td>62.14</td>\n",
       "      <td>Placed</td>\n",
       "      <td>252000.0</td>\n",
       "    </tr>\n",
       "    <tr>\n",
       "      <th>8</th>\n",
       "      <td>9</td>\n",
       "      <td>M</td>\n",
       "      <td>73.00</td>\n",
       "      <td>Central</td>\n",
       "      <td>79.00</td>\n",
       "      <td>Central</td>\n",
       "      <td>Commerce</td>\n",
       "      <td>72.00</td>\n",
       "      <td>Comm&amp;Mgmt</td>\n",
       "      <td>No</td>\n",
       "      <td>91.34</td>\n",
       "      <td>Mkt&amp;Fin</td>\n",
       "      <td>61.29</td>\n",
       "      <td>Placed</td>\n",
       "      <td>231000.0</td>\n",
       "    </tr>\n",
       "    <tr>\n",
       "      <th>9</th>\n",
       "      <td>10</td>\n",
       "      <td>M</td>\n",
       "      <td>58.00</td>\n",
       "      <td>Central</td>\n",
       "      <td>70.00</td>\n",
       "      <td>Central</td>\n",
       "      <td>Commerce</td>\n",
       "      <td>61.00</td>\n",
       "      <td>Comm&amp;Mgmt</td>\n",
       "      <td>No</td>\n",
       "      <td>54.00</td>\n",
       "      <td>Mkt&amp;Fin</td>\n",
       "      <td>52.21</td>\n",
       "      <td>Not Placed</td>\n",
       "      <td>NaN</td>\n",
       "    </tr>\n",
       "  </tbody>\n",
       "</table>\n",
       "</div>"
      ],
      "text/plain": [
       "   SerialNumber Gender  LowerSecondarySchollGrade% LowerSecondarySchollBoard  \\\n",
       "0             1      M                       67.00                    Others   \n",
       "1             2      M                       79.33                   Central   \n",
       "2             3      M                       65.00                   Central   \n",
       "3             4      M                       56.00                   Central   \n",
       "4             5      M                       85.80                   Central   \n",
       "5             6      M                       55.00                    Others   \n",
       "6             7      F                       46.00                    Others   \n",
       "7             8      M                       82.00                   Central   \n",
       "8             9      M                       73.00                   Central   \n",
       "9            10      M                       58.00                   Central   \n",
       "\n",
       "   HigherSecondarySchollGrade% HigherSecondarySchollBoard  \\\n",
       "0                        91.00                     Others   \n",
       "1                        78.33                     Others   \n",
       "2                        68.00                    Central   \n",
       "3                        52.00                    Central   \n",
       "4                        73.60                    Central   \n",
       "5                        49.80                     Others   \n",
       "6                        49.20                     Others   \n",
       "7                        64.00                    Central   \n",
       "8                        79.00                    Central   \n",
       "9                        70.00                    Central   \n",
       "\n",
       "  HigherSecondarySchollSpecialization  DegreeGrade% DegreeSpecialization  \\\n",
       "0                            Commerce         58.00             Sci&Tech   \n",
       "1                             Science         77.48             Sci&Tech   \n",
       "2                                Arts         64.00            Comm&Mgmt   \n",
       "3                             Science         52.00             Sci&Tech   \n",
       "4                            Commerce         73.30            Comm&Mgmt   \n",
       "5                             Science         67.25             Sci&Tech   \n",
       "6                            Commerce         79.00            Comm&Mgmt   \n",
       "7                             Science         66.00             Sci&Tech   \n",
       "8                            Commerce         72.00            Comm&Mgmt   \n",
       "9                            Commerce         61.00            Comm&Mgmt   \n",
       "\n",
       "  WorkExperience  EmployabilityTestGrade% MBASpecialization  MBAGrade%  \\\n",
       "0             No                    55.00            Mkt&HR      58.80   \n",
       "1            Yes                    86.50           Mkt&Fin      66.28   \n",
       "2             No                    75.00           Mkt&Fin      57.80   \n",
       "3             No                    66.00            Mkt&HR      59.43   \n",
       "4             No                    96.80           Mkt&Fin      55.50   \n",
       "5            Yes                    55.00           Mkt&Fin      51.58   \n",
       "6             No                    74.28           Mkt&Fin      53.29   \n",
       "7            Yes                    67.00           Mkt&Fin      62.14   \n",
       "8             No                    91.34           Mkt&Fin      61.29   \n",
       "9             No                    54.00           Mkt&Fin      52.21   \n",
       "\n",
       "  PlacementStatus    Salary  \n",
       "0          Placed  270000.0  \n",
       "1          Placed  200000.0  \n",
       "2          Placed  250000.0  \n",
       "3      Not Placed       NaN  \n",
       "4          Placed  425000.0  \n",
       "5      Not Placed       NaN  \n",
       "6      Not Placed       NaN  \n",
       "7          Placed  252000.0  \n",
       "8          Placed  231000.0  \n",
       "9      Not Placed       NaN  "
      ]
     },
     "execution_count": 2,
     "metadata": {},
     "output_type": "execute_result"
    }
   ],
   "source": [
    "col_names = [\n",
    "    \"SerialNumber\", \n",
    "    \"Gender\", \n",
    "    \"LowerSecondarySchollGrade%\", \n",
    "    \"LowerSecondarySchollBoard\", \n",
    "    \"HigherSecondarySchollGrade%\", \n",
    "    \"HigherSecondarySchollBoard\",\n",
    "    \"HigherSecondarySchollSpecialization\",\n",
    "    \"DegreeGrade%\",\n",
    "    \"DegreeSpecialization\",\n",
    "    \"WorkExperience\",\n",
    "    \"EmployabilityTestGrade%\",\n",
    "    \"MBASpecialization\",\n",
    "    \"MBAGrade%\",\n",
    "    \"PlacementStatus\",\n",
    "    \"Salary\"\n",
    "]\n",
    "data = pd.read_csv(\"data/Placement_Data_Full_Class.csv\", names=col_names, header=0)\n",
    "data.head(10)"
   ]
  },
  {
   "cell_type": "markdown",
   "metadata": {},
   "source": [
    "First thing to notice here is that if the status is \"Not Placed\", it seems that the salary will be NaN. Just a remainder to not treat it as missing data.\n",
    "It will be necessary to check if there is someone \"Placed\" with a NaN salary.\n",
    "\n",
    "Some encoding will be necessary for the categorical data.\n",
    "\n",
    "The first column seems to be just an ID. It ill be droped.\n",
    "\n",
    "Let's take a better look at the features information"
   ]
  },
  {
   "cell_type": "code",
   "execution_count": 3,
   "metadata": {},
   "outputs": [
    {
     "data": {
      "text/html": [
       "<div>\n",
       "<style scoped>\n",
       "    .dataframe tbody tr th:only-of-type {\n",
       "        vertical-align: middle;\n",
       "    }\n",
       "\n",
       "    .dataframe tbody tr th {\n",
       "        vertical-align: top;\n",
       "    }\n",
       "\n",
       "    .dataframe thead th {\n",
       "        text-align: right;\n",
       "    }\n",
       "</style>\n",
       "<table border=\"1\" class=\"dataframe\">\n",
       "  <thead>\n",
       "    <tr style=\"text-align: right;\">\n",
       "      <th></th>\n",
       "      <th>SerialNumber</th>\n",
       "      <th>LowerSecondarySchollGrade%</th>\n",
       "      <th>HigherSecondarySchollGrade%</th>\n",
       "      <th>DegreeGrade%</th>\n",
       "      <th>EmployabilityTestGrade%</th>\n",
       "      <th>MBAGrade%</th>\n",
       "      <th>Salary</th>\n",
       "    </tr>\n",
       "  </thead>\n",
       "  <tbody>\n",
       "    <tr>\n",
       "      <th>count</th>\n",
       "      <td>215.000000</td>\n",
       "      <td>215.000000</td>\n",
       "      <td>215.000000</td>\n",
       "      <td>215.000000</td>\n",
       "      <td>215.000000</td>\n",
       "      <td>215.000000</td>\n",
       "      <td>148.000000</td>\n",
       "    </tr>\n",
       "    <tr>\n",
       "      <th>mean</th>\n",
       "      <td>108.000000</td>\n",
       "      <td>67.303395</td>\n",
       "      <td>66.333163</td>\n",
       "      <td>66.370186</td>\n",
       "      <td>72.100558</td>\n",
       "      <td>62.278186</td>\n",
       "      <td>288655.405405</td>\n",
       "    </tr>\n",
       "    <tr>\n",
       "      <th>std</th>\n",
       "      <td>62.209324</td>\n",
       "      <td>10.827205</td>\n",
       "      <td>10.897509</td>\n",
       "      <td>7.358743</td>\n",
       "      <td>13.275956</td>\n",
       "      <td>5.833385</td>\n",
       "      <td>93457.452420</td>\n",
       "    </tr>\n",
       "    <tr>\n",
       "      <th>min</th>\n",
       "      <td>1.000000</td>\n",
       "      <td>40.890000</td>\n",
       "      <td>37.000000</td>\n",
       "      <td>50.000000</td>\n",
       "      <td>50.000000</td>\n",
       "      <td>51.210000</td>\n",
       "      <td>200000.000000</td>\n",
       "    </tr>\n",
       "    <tr>\n",
       "      <th>25%</th>\n",
       "      <td>54.500000</td>\n",
       "      <td>60.600000</td>\n",
       "      <td>60.900000</td>\n",
       "      <td>61.000000</td>\n",
       "      <td>60.000000</td>\n",
       "      <td>57.945000</td>\n",
       "      <td>240000.000000</td>\n",
       "    </tr>\n",
       "    <tr>\n",
       "      <th>50%</th>\n",
       "      <td>108.000000</td>\n",
       "      <td>67.000000</td>\n",
       "      <td>65.000000</td>\n",
       "      <td>66.000000</td>\n",
       "      <td>71.000000</td>\n",
       "      <td>62.000000</td>\n",
       "      <td>265000.000000</td>\n",
       "    </tr>\n",
       "    <tr>\n",
       "      <th>75%</th>\n",
       "      <td>161.500000</td>\n",
       "      <td>75.700000</td>\n",
       "      <td>73.000000</td>\n",
       "      <td>72.000000</td>\n",
       "      <td>83.500000</td>\n",
       "      <td>66.255000</td>\n",
       "      <td>300000.000000</td>\n",
       "    </tr>\n",
       "    <tr>\n",
       "      <th>max</th>\n",
       "      <td>215.000000</td>\n",
       "      <td>89.400000</td>\n",
       "      <td>97.700000</td>\n",
       "      <td>91.000000</td>\n",
       "      <td>98.000000</td>\n",
       "      <td>77.890000</td>\n",
       "      <td>940000.000000</td>\n",
       "    </tr>\n",
       "  </tbody>\n",
       "</table>\n",
       "</div>"
      ],
      "text/plain": [
       "       SerialNumber  LowerSecondarySchollGrade%  HigherSecondarySchollGrade%  \\\n",
       "count    215.000000                  215.000000                   215.000000   \n",
       "mean     108.000000                   67.303395                    66.333163   \n",
       "std       62.209324                   10.827205                    10.897509   \n",
       "min        1.000000                   40.890000                    37.000000   \n",
       "25%       54.500000                   60.600000                    60.900000   \n",
       "50%      108.000000                   67.000000                    65.000000   \n",
       "75%      161.500000                   75.700000                    73.000000   \n",
       "max      215.000000                   89.400000                    97.700000   \n",
       "\n",
       "       DegreeGrade%  EmployabilityTestGrade%   MBAGrade%         Salary  \n",
       "count    215.000000               215.000000  215.000000     148.000000  \n",
       "mean      66.370186                72.100558   62.278186  288655.405405  \n",
       "std        7.358743                13.275956    5.833385   93457.452420  \n",
       "min       50.000000                50.000000   51.210000  200000.000000  \n",
       "25%       61.000000                60.000000   57.945000  240000.000000  \n",
       "50%       66.000000                71.000000   62.000000  265000.000000  \n",
       "75%       72.000000                83.500000   66.255000  300000.000000  \n",
       "max       91.000000                98.000000   77.890000  940000.000000  "
      ]
     },
     "execution_count": 3,
     "metadata": {},
     "output_type": "execute_result"
    }
   ],
   "source": [
    "data.describe()"
   ]
  },
  {
   "cell_type": "code",
   "execution_count": 4,
   "metadata": {},
   "outputs": [
    {
     "data": {
      "text/plain": [
       "SerialNumber                            0\n",
       "Gender                                  0\n",
       "LowerSecondarySchollGrade%              0\n",
       "LowerSecondarySchollBoard               0\n",
       "HigherSecondarySchollGrade%             0\n",
       "HigherSecondarySchollBoard              0\n",
       "HigherSecondarySchollSpecialization     0\n",
       "DegreeGrade%                            0\n",
       "DegreeSpecialization                    0\n",
       "WorkExperience                          0\n",
       "EmployabilityTestGrade%                 0\n",
       "MBASpecialization                       0\n",
       "MBAGrade%                               0\n",
       "PlacementStatus                         0\n",
       "Salary                                 67\n",
       "dtype: int64"
      ]
     },
     "execution_count": 4,
     "metadata": {},
     "output_type": "execute_result"
    }
   ],
   "source": [
    "data.isnull().sum()"
   ]
  },
  {
   "cell_type": "markdown",
   "metadata": {},
   "source": [
    "Great, it seems that there is no missing values (except the ones in the salary, but we already know they are not really missing). \n",
    "\n",
    "Also, there is no sign of weird outliers in the quantitative features."
   ]
  },
  {
   "cell_type": "code",
   "execution_count": 5,
   "metadata": {},
   "outputs": [],
   "source": [
    "data.drop(\"SerialNumber\", axis=1, inplace=True)"
   ]
  },
  {
   "cell_type": "markdown",
   "metadata": {},
   "source": [
    "Let's analyse the distribution of the PlacementStatus column"
   ]
  },
  {
   "cell_type": "code",
   "execution_count": 6,
   "metadata": {},
   "outputs": [
    {
     "name": "stdout",
     "output_type": "stream",
     "text": [
      "Placed 68.84 % of the dataset\n",
      "Not placed 31.16 % of the dataset\n"
     ]
    },
    {
     "data": {
      "image/png": "[encoded data removed]",
      "text/plain": [
       "<Figure size 432x288 with 1 Axes>"
      ]
     },
     "metadata": {
      "needs_background": "light"
     },
     "output_type": "display_data"
    }
   ],
   "source": [
    "plot = sns.countplot(x=\"PlacementStatus\", data=data)\n",
    "plt.title(\"Placement Distribution\")\n",
    "plt.xlabel(\"Placement Status\")\n",
    "plot.get_figure().savefig(\"images/PlacementStatus.png\")\n",
    "\n",
    "print('Placed', round(data[\"PlacementStatus\"].value_counts()[0]/len(data) * 100,2), '% of the dataset')\n",
    "print('Not placed', round(data[\"PlacementStatus\"].value_counts()[1]/len(data) * 100,2), '% of the dataset')"
   ]
  },
  {
   "cell_type": "markdown",
   "metadata": {},
   "source": [
    "The placement is unbalanced.\n"
   ]
  },
  {
   "cell_type": "code",
   "execution_count": 7,
   "metadata": {},
   "outputs": [
    {
     "data": {
      "text/plain": [
       "Not Placed    67\n",
       "Name: PlacementStatus, dtype: int64"
      ]
     },
     "execution_count": 7,
     "metadata": {},
     "output_type": "execute_result"
    }
   ],
   "source": [
    "data[data[\"PlacementStatus\"] == \"Not Placed\"][\"PlacementStatus\"].value_counts()"
   ]
  },
  {
   "cell_type": "markdown",
   "metadata": {},
   "source": [
    "All missing salaries are associated to Not Placed people"
   ]
  },
  {
   "cell_type": "markdown",
   "metadata": {},
   "source": [
    "## Gender"
   ]
  },
  {
   "cell_type": "code",
   "execution_count": 8,
   "metadata": {},
   "outputs": [
    {
     "name": "stdout",
     "output_type": "stream",
     "text": [
      "Men 64.65 % of the dataset\n",
      "Women 35.35 % of the dataset\n"
     ]
    },
    {
     "data": {
      "image/png": "[encoded data removed]",
      "text/plain": [
       "<Figure size 432x288 with 1 Axes>"
      ]
     },
     "metadata": {
      "needs_background": "light"
     },
     "output_type": "display_data"
    }
   ],
   "source": [
    "sns.countplot(x=\"Gender\", data=data)\n",
    "plt.title(\"Gender Distribution\")\n",
    "\n",
    "print('Men', round(data[\"Gender\"].value_counts()[0]/len(data) * 100,2), '% of the dataset')\n",
    "print('Women', round(data[\"Gender\"].value_counts()[1]/len(data) * 100,2), '% of the dataset')"
   ]
  },
  {
   "cell_type": "markdown",
   "metadata": {},
   "source": [
    "## Relation between EmployabilityTest and PlacementStatus"
   ]
  },
  {
   "cell_type": "code",
   "execution_count": 9,
   "metadata": {},
   "outputs": [
    {
     "data": {
      "image/png": "[encoded data removed]",
      "text/plain": [
       "<Figure size 360x360 with 1 Axes>"
      ]
     },
     "metadata": {
      "needs_background": "light"
     },
     "output_type": "display_data"
    }
   ],
   "source": [
    "plot = sns.catplot(x=\"PlacementStatus\", y=\"EmployabilityTestGrade%\", data=data)\n",
    "plt.xlabel(\"Placement Status\")\n",
    "plt.ylabel(\"Employability Test Grade (in %)\")\n",
    "plot.savefig(\"images/EmployabilityTest.png\")"
   ]
  },
  {
   "cell_type": "markdown",
   "metadata": {},
   "source": [
    "Surprisingly, the employability test seems to not be a major factor to the placement rate. There are a lot of students with good scores that did not land a job. It may be necessary for the institution to rethink this test."
   ]
  },
  {
   "cell_type": "markdown",
   "metadata": {},
   "source": [
    "## Salary"
   ]
  },
  {
   "cell_type": "code",
   "execution_count": 10,
   "metadata": {},
   "outputs": [
    {
     "data": {
      "image/png": "[encoded data removed]",
      "text/plain": [
       "<Figure size 432x288 with 1 Axes>"
      ]
     },
     "metadata": {},
     "output_type": "display_data"
    }
   ],
   "source": [
    "# Set the style of plots\n",
    "plt.style.use('fivethirtyeight')\n",
    "\n",
    "# Plot the distribution of ages in years\n",
    "plt.hist(data['Salary'], edgecolor = 'k', bins = 25)\n",
    "plt.title('Salaries'); plt.xlabel('Salary'); plt.ylabel('Count');"
   ]
  },
  {
   "cell_type": "code",
   "execution_count": 11,
   "metadata": {},
   "outputs": [
    {
     "data": {
      "text/plain": [
       "Text(0.5, 0, 'Employability Test grade')"
      ]
     },
     "execution_count": 11,
     "metadata": {},
     "output_type": "execute_result"
    },
    {
     "data": {
      "image/png": "[encoded data removed]",
      "text/plain": [
       "<Figure size 432x288 with 1 Axes>"
      ]
     },
     "metadata": {},
     "output_type": "display_data"
    }
   ],
   "source": [
    "sns.regplot(x=\"EmployabilityTestGrade%\", y=\"Salary\", data=data)\n",
    "plt.xlabel(\"Employability Test grade\")"
   ]
  },
  {
   "cell_type": "markdown",
   "metadata": {},
   "source": [
    "There is a positive relation between salary and the employability test. It is not huge, but it is visible. "
   ]
  },
  {
   "cell_type": "code",
   "execution_count": 12,
   "metadata": {},
   "outputs": [
    {
     "data": {
      "text/plain": [
       "<AxesSubplot:xlabel='Gender', ylabel='Salary'>"
      ]
     },
     "execution_count": 12,
     "metadata": {},
     "output_type": "execute_result"
    },
    {
     "data": {
      "image/png": "[encoded data removed]",
      "text/plain": [
       "<Figure size 432x288 with 1 Axes>"
      ]
     },
     "metadata": {},
     "output_type": "display_data"
    }
   ],
   "source": [
    "sns.barplot(x=\"Gender\", y=\"Salary\", data=data)"
   ]
  },
  {
   "cell_type": "markdown",
   "metadata": {},
   "source": [
    "Men seems to have higher salary than women. It may be because of different backgrounds / fields. I will take a look at this."
   ]
  },
  {
   "cell_type": "code",
   "execution_count": 13,
   "metadata": {},
   "outputs": [
    {
     "data": {
      "text/plain": [
       "<AxesSubplot:xlabel='MBASpecialization', ylabel='count'>"
      ]
     },
     "execution_count": 13,
     "metadata": {},
     "output_type": "execute_result"
    },
    {
     "data": {
      "image/png": "[encoded data removed]",
      "text/plain": [
       "<Figure size 432x288 with 1 Axes>"
      ]
     },
     "metadata": {},
     "output_type": "display_data"
    }
   ],
   "source": [
    "# MBASpecialization\n",
    "sns.countplot(x=\"MBASpecialization\", hue=\"Gender\", data=data)"
   ]
  },
  {
   "cell_type": "code",
   "execution_count": 14,
   "metadata": {},
   "outputs": [
    {
     "data": {
      "text/plain": [
       "<AxesSubplot:xlabel='DegreeSpecialization', ylabel='count'>"
      ]
     },
     "execution_count": 14,
     "metadata": {},
     "output_type": "execute_result"
    },
    {
     "data": {
      "image/png": "[encoded data removed]",
      "text/plain": [
       "<Figure size 432x288 with 1 Axes>"
      ]
     },
     "metadata": {},
     "output_type": "display_data"
    }
   ],
   "source": [
    "sns.countplot(x=\"DegreeSpecialization\", hue=\"Gender\", data=data)"
   ]
  },
  {
   "cell_type": "code",
   "execution_count": 15,
   "metadata": {},
   "outputs": [
    {
     "data": {
      "text/plain": [
       "<AxesSubplot:xlabel='MBASpecialization', ylabel='Salary'>"
      ]
     },
     "execution_count": 15,
     "metadata": {},
     "output_type": "execute_result"
    },
    {
     "data": {
      "image/png": "[encoded data removed]",
      "text/plain": [
       "<Figure size 432x288 with 1 Axes>"
      ]
     },
     "metadata": {},
     "output_type": "display_data"
    }
   ],
   "source": [
    "sns.barplot(x=\"MBASpecialization\", y=\"Salary\", hue=\"Gender\", data=data)"
   ]
  },
  {
   "cell_type": "code",
   "execution_count": 16,
   "metadata": {},
   "outputs": [
    {
     "data": {
      "text/plain": [
       "<AxesSubplot:xlabel='DegreeSpecialization', ylabel='Salary'>"
      ]
     },
     "execution_count": 16,
     "metadata": {},
     "output_type": "execute_result"
    },
    {
     "data": {
      "image/png": "[encoded data removed]",
      "text/plain": [
       "<Figure size 432x288 with 1 Axes>"
      ]
     },
     "metadata": {},
     "output_type": "display_data"
    }
   ],
   "source": [
    "sns.barplot(x=\"DegreeSpecialization\", y=\"Salary\", hue=\"Gender\", data=data)"
   ]
  },
  {
   "cell_type": "markdown",
   "metadata": {},
   "source": [
    "Women that came from men-dominated fields receive lower salaries, but receive higher salaries if they came from \"Others\" fields. However, the amount of data from the \"Others\" field is not large enough to give a conclusive answer, more data would be required."
   ]
  },
  {
   "cell_type": "markdown",
   "metadata": {},
   "source": [
    "## Is the MBAGrade important?"
   ]
  },
  {
   "cell_type": "code",
   "execution_count": 17,
   "metadata": {},
   "outputs": [
    {
     "data": {
      "text/plain": [
       "[(0.0, 100.0)]"
      ]
     },
     "execution_count": 17,
     "metadata": {},
     "output_type": "execute_result"
    },
    {
     "data": {
      "image/png": "[encoded data removed]",
      "text/plain": [
       "<Figure size 432x288 with 1 Axes>"
      ]
     },
     "metadata": {},
     "output_type": "display_data"
    }
   ],
   "source": [
    "plot = sns.barplot(x=\"PlacementStatus\", y=\"MBAGrade%\", hue=\"Gender\", data=data)\n",
    "plot.set(ylim = (0, 100))"
   ]
  },
  {
   "cell_type": "markdown",
   "metadata": {},
   "source": [
    "Even with higher grades, women are less likely to be hired."
   ]
  },
  {
   "cell_type": "code",
   "execution_count": 18,
   "metadata": {},
   "outputs": [
    {
     "data": {
      "text/plain": [
       "Text(0.5, 0, 'MBA grades')"
      ]
     },
     "execution_count": 18,
     "metadata": {},
     "output_type": "execute_result"
    },
    {
     "data": {
      "image/png": "[encoded data removed]",
      "text/plain": [
       "<Figure size 432x288 with 1 Axes>"
      ]
     },
     "metadata": {},
     "output_type": "display_data"
    }
   ],
   "source": [
    "sns.regplot(x=\"MBAGrade%\", y=\"Salary\", data=data)\n",
    "plt.xlabel(\"MBA grades\")"
   ]
  },
  {
   "cell_type": "markdown",
   "metadata": {},
   "source": [
    "But the grade indeed is important to the salary"
   ]
  },
  {
   "cell_type": "markdown",
   "metadata": {},
   "source": [
    "## Deeper look at the student past"
   ]
  },
  {
   "cell_type": "code",
   "execution_count": 19,
   "metadata": {},
   "outputs": [
    {
     "data": {
      "text/plain": [
       "<AxesSubplot:xlabel='LowerSecondarySchollBoard', ylabel='Salary'>"
      ]
     },
     "execution_count": 19,
     "metadata": {},
     "output_type": "execute_result"
    },
    {
     "data": {
      "image/png": "[encoded data removed]",
      "text/plain": [
       "<Figure size 432x288 with 1 Axes>"
      ]
     },
     "metadata": {},
     "output_type": "display_data"
    }
   ],
   "source": [
    "sns.barplot(x=\"LowerSecondarySchollBoard\", y=\"Salary\", data=data)"
   ]
  },
  {
   "cell_type": "markdown",
   "metadata": {},
   "source": [
    "The Lower scholl board that the student came from seems to have no impact here, but the outliers came from the central board, which is interesting."
   ]
  },
  {
   "cell_type": "code",
   "execution_count": 20,
   "metadata": {},
   "outputs": [
    {
     "data": {
      "text/plain": [
       "<AxesSubplot:xlabel='HigherSecondarySchollBoard', ylabel='Salary'>"
      ]
     },
     "execution_count": 20,
     "metadata": {},
     "output_type": "execute_result"
    },
    {
     "data": {
      "image/png": "[encoded data removed]",
      "text/plain": [
       "<Figure size 432x288 with 1 Axes>"
      ]
     },
     "metadata": {},
     "output_type": "display_data"
    }
   ],
   "source": [
    "sns.barplot(x=\"HigherSecondarySchollBoard\", y=\"Salary\", data=data)"
   ]
  },
  {
   "cell_type": "markdown",
   "metadata": {},
   "source": [
    "Same thing here. No major impact."
   ]
  },
  {
   "cell_type": "code",
   "execution_count": 21,
   "metadata": {},
   "outputs": [
    {
     "data": {
      "text/plain": [
       "Text(0.5, 0, 'High school specialization')"
      ]
     },
     "execution_count": 21,
     "metadata": {},
     "output_type": "execute_result"
    },
    {
     "data": {
      "image/png": "[encoded data removed]",
      "text/plain": [
       "<Figure size 432x288 with 1 Axes>"
      ]
     },
     "metadata": {},
     "output_type": "display_data"
    }
   ],
   "source": [
    "sns.barplot(x=\"HigherSecondarySchollSpecialization\", y=\"Salary\", data=data)\n",
    "plt.xlabel(\"High school specialization\")"
   ]
  },
  {
   "cell_type": "markdown",
   "metadata": {},
   "source": [
    "This one is more interesting. Science as a Higher secondary scholl specialization leads to a better salary than the other options (specially Arts)\n",
    "\n",
    "Let's take a look at the Degree and MBA specializations again, now without the gender"
   ]
  },
  {
   "cell_type": "code",
   "execution_count": 22,
   "metadata": {},
   "outputs": [
    {
     "data": {
      "text/plain": [
       "Text(0.5, 0, 'College degree area')"
      ]
     },
     "execution_count": 22,
     "metadata": {},
     "output_type": "execute_result"
    },
    {
     "data": {
      "image/png": "[encoded data removed]",
      "text/plain": [
       "<Figure size 432x288 with 1 Axes>"
      ]
     },
     "metadata": {},
     "output_type": "display_data"
    }
   ],
   "source": [
    "sns.barplot(x=\"DegreeSpecialization\", y=\"Salary\", data=data)\n",
    "plt.xlabel(\"College degree area\")"
   ]
  },
  {
   "cell_type": "markdown",
   "metadata": {},
   "source": [
    "Science is in the lead again."
   ]
  },
  {
   "cell_type": "markdown",
   "metadata": {},
   "source": [
    "## What about the MBA field of choice?"
   ]
  },
  {
   "cell_type": "code",
   "execution_count": 23,
   "metadata": {},
   "outputs": [
    {
     "data": {
      "text/plain": [
       "Text(0.5, 0, 'MBA specialization')"
      ]
     },
     "execution_count": 23,
     "metadata": {},
     "output_type": "execute_result"
    },
    {
     "data": {
      "image/png": "[encoded data removed]",
      "text/plain": [
       "<Figure size 432x288 with 1 Axes>"
      ]
     },
     "metadata": {},
     "output_type": "display_data"
    }
   ],
   "source": [
    "sns.barplot(x=\"MBASpecialization\", y=\"Salary\", data=data)\n",
    "plt.xlabel(\"MBA specialization\")"
   ]
  },
  {
   "cell_type": "markdown",
   "metadata": {},
   "source": [
    "This one seems to have a huge impact. An MBA in finances leads to a higher salary than in HR."
   ]
  },
  {
   "cell_type": "code",
   "execution_count": 24,
   "metadata": {},
   "outputs": [
    {
     "data": {
      "text/plain": [
       "Text(0.5, 0, 'MBA specialization')"
      ]
     },
     "execution_count": 24,
     "metadata": {},
     "output_type": "execute_result"
    },
    {
     "data": {
      "image/png": "[encoded data removed]",
      "text/plain": [
       "<Figure size 432x288 with 1 Axes>"
      ]
     },
     "metadata": {},
     "output_type": "display_data"
    }
   ],
   "source": [
    "plot = sns.countplot(x=\"MBASpecialization\", hue=\"PlacementStatus\", data=data)\n",
    "plot.set(ylim = (0, 100))\n",
    "plt.xlabel(\"MBA specialization\")"
   ]
  },
  {
   "cell_type": "markdown",
   "metadata": {},
   "source": [
    "An MBA in Finances leads to a way better employability too. Students in doubt should really think about the Mkt&Fin MBA to  garantee the best oportunities later on"
   ]
  },
  {
   "cell_type": "markdown",
   "metadata": {},
   "source": [
    "## How about work experience?"
   ]
  },
  {
   "cell_type": "code",
   "execution_count": 25,
   "metadata": {},
   "outputs": [
    {
     "data": {
      "text/plain": [
       "<AxesSubplot:xlabel='WorkExperience', ylabel='Salary'>"
      ]
     },
     "execution_count": 25,
     "metadata": {},
     "output_type": "execute_result"
    },
    {
     "data": {
      "image/png": "[encoded data removed]",
      "text/plain": [
       "<Figure size 432x288 with 1 Axes>"
      ]
     },
     "metadata": {},
     "output_type": "display_data"
    }
   ],
   "source": [
    "sns.barplot(x=\"WorkExperience\", y=\"Salary\", data=data)"
   ]
  },
  {
   "cell_type": "code",
   "execution_count": 26,
   "metadata": {},
   "outputs": [
    {
     "name": "stdout",
     "output_type": "stream",
     "text": [
      "Salary with work experience:  303265.625\n",
      "Salary with no work experience:  277523.8095238095\n",
      "Percentual difference:  9.275534059711731\n"
     ]
    }
   ],
   "source": [
    "salary_with_experience = np.mean(data[data[\"WorkExperience\"] == \"Yes\"][\"Salary\"])\n",
    "salary_no_experience = np.mean(data[data[\"WorkExperience\"] == \"No\"][\"Salary\"])\n",
    "print(\"Salary with work experience: \", salary_with_experience)\n",
    "print(\"Salary with no work experience: \", salary_no_experience)\n",
    "print(\"Percentual difference: \", 100*(salary_with_experience / salary_no_experience - 1))"
   ]
  },
  {
   "cell_type": "code",
   "execution_count": 27,
   "metadata": {},
   "outputs": [
    {
     "data": {
      "text/plain": [
       "Text(0.5, 0, 'Placement status')"
      ]
     },
     "execution_count": 27,
     "metadata": {},
     "output_type": "execute_result"
    },
    {
     "data": {
      "image/png": "[encoded data removed]",
      "text/plain": [
       "<Figure size 432x288 with 1 Axes>"
      ]
     },
     "metadata": {},
     "output_type": "display_data"
    }
   ],
   "source": [
    "sns.countplot(x=\"PlacementStatus\", hue=\"WorkExperience\", data=data)\n",
    "plt.xlabel(\"Placement status\")"
   ]
  },
  {
   "cell_type": "code",
   "execution_count": 28,
   "metadata": {},
   "outputs": [
    {
     "name": "stdout",
     "output_type": "stream",
     "text": [
      "Placement with work experience:  0.8648648648648649\n",
      "Placement with no work experience:  0.5957446808510638\n",
      "Percentual difference:  45.173745173745196\n"
     ]
    }
   ],
   "source": [
    "placement_with_experience = data[data[\"WorkExperience\"] == \"Yes\"][\"PlacementStatus\"] == \"Placed\"\n",
    "placement_no_experience = data[data[\"WorkExperience\"] == \"No\"][\"PlacementStatus\"] == \"Placed\"\n",
    "\n",
    "print(\"Placement with work experience: \", placement_with_experience.mean())\n",
    "print(\"Placement with no work experience: \", placement_no_experience.mean())\n",
    "print(\"Percentual difference: \", 100*(placement_with_experience.mean() / placement_no_experience.mean() - 1))\n",
    "\n",
    "# print(\"Salary with work experience: \", salary_with_experience)\n",
    "# print(\"Salary with no work experience: \", salary_no_experience)\n",
    "# print(\"Percentual difference: \", 100*(salary_with_experience / salary_no_experience - 1))"
   ]
  },
  {
   "cell_type": "markdown",
   "metadata": {},
   "source": [
    "Work Experience is really important! Having working previously leads to a way higher employment rate and salary."
   ]
  },
  {
   "cell_type": "markdown",
   "metadata": {},
   "source": [
    "## Does the grade in scholl afect your future life?\n",
    "\n",
    "This one is trickier. Even if the plots show this is true, it might be that people with higher grades in scholl tends to have higher grades in the university or MBA. The true answer will only come with a correlation analysis, but I will plot some graphs to see if I can extract anything from them."
   ]
  },
  {
   "cell_type": "code",
   "execution_count": 29,
   "metadata": {},
   "outputs": [
    {
     "data": {
      "text/plain": [
       "<AxesSubplot:xlabel='LowerSecondarySchollGrade%', ylabel='Salary'>"
      ]
     },
     "execution_count": 29,
     "metadata": {},
     "output_type": "execute_result"
    },
    {
     "data": {
      "image/png": "[encoded data removed]",
      "text/plain": [
       "<Figure size 432x288 with 1 Axes>"
      ]
     },
     "metadata": {},
     "output_type": "display_data"
    }
   ],
   "source": [
    "sns.regplot(x=\"LowerSecondarySchollGrade%\", y=\"Salary\", data=data)"
   ]
  },
  {
   "cell_type": "code",
   "execution_count": 30,
   "metadata": {},
   "outputs": [
    {
     "data": {
      "text/plain": [
       "<AxesSubplot:xlabel='HigherSecondarySchollGrade%', ylabel='Salary'>"
      ]
     },
     "execution_count": 30,
     "metadata": {},
     "output_type": "execute_result"
    },
    {
     "data": {
      "image/png": "[encoded data removed]",
      "text/plain": [
       "<Figure size 432x288 with 1 Axes>"
      ]
     },
     "metadata": {},
     "output_type": "display_data"
    }
   ],
   "source": [
    "sns.regplot(x=\"HigherSecondarySchollGrade%\", y=\"Salary\", data=data)"
   ]
  },
  {
   "cell_type": "code",
   "execution_count": 31,
   "metadata": {},
   "outputs": [
    {
     "data": {
      "text/plain": [
       "<AxesSubplot:xlabel='DegreeGrade%', ylabel='Salary'>"
      ]
     },
     "execution_count": 31,
     "metadata": {},
     "output_type": "execute_result"
    },
    {
     "data": {
      "image/png": "[encoded data removed]",
      "text/plain": [
       "<Figure size 432x288 with 1 Axes>"
      ]
     },
     "metadata": {},
     "output_type": "display_data"
    }
   ],
   "source": [
    "sns.regplot(x=\"DegreeGrade%\", y=\"Salary\", data=data)"
   ]
  },
  {
   "cell_type": "markdown",
   "metadata": {},
   "source": [
    "There seems to be no relation between grades in previous education and salaries.\n",
    "\n",
    "Now for placement:"
   ]
  },
  {
   "cell_type": "code",
   "execution_count": 32,
   "metadata": {},
   "outputs": [
    {
     "data": {
      "text/plain": [
       "<AxesSubplot:xlabel='PlacementStatus', ylabel='LowerSecondarySchollGrade%'>"
      ]
     },
     "execution_count": 32,
     "metadata": {},
     "output_type": "execute_result"
    },
    {
     "data": {
      "image/png": "[encoded data removed]",
      "text/plain": [
       "<Figure size 432x288 with 1 Axes>"
      ]
     },
     "metadata": {},
     "output_type": "display_data"
    }
   ],
   "source": [
    "sns.barplot(x=\"PlacementStatus\", y=\"LowerSecondarySchollGrade%\", data=data)"
   ]
  },
  {
   "cell_type": "code",
   "execution_count": 33,
   "metadata": {},
   "outputs": [
    {
     "data": {
      "text/plain": [
       "<AxesSubplot:xlabel='PlacementStatus', ylabel='HigherSecondarySchollGrade%'>"
      ]
     },
     "execution_count": 33,
     "metadata": {},
     "output_type": "execute_result"
    },
    {
     "data": {
      "image/png": "[encoded data removed]",
      "text/plain": [
       "<Figure size 432x288 with 1 Axes>"
      ]
     },
     "metadata": {},
     "output_type": "display_data"
    }
   ],
   "source": [
    "sns.barplot(x=\"PlacementStatus\", y=\"HigherSecondarySchollGrade%\", data=data)"
   ]
  },
  {
   "cell_type": "code",
   "execution_count": 34,
   "metadata": {},
   "outputs": [
    {
     "data": {
      "text/plain": [
       "<AxesSubplot:xlabel='PlacementStatus', ylabel='DegreeGrade%'>"
      ]
     },
     "execution_count": 34,
     "metadata": {},
     "output_type": "execute_result"
    },
    {
     "data": {
      "image/png": "[encoded data removed]",
      "text/plain": [
       "<Figure size 432x288 with 1 Axes>"
      ]
     },
     "metadata": {},
     "output_type": "display_data"
    }
   ],
   "source": [
    "sns.barplot(x=\"PlacementStatus\", y=\"DegreeGrade%\", data=data)"
   ]
  },
  {
   "cell_type": "markdown",
   "metadata": {},
   "source": [
    "This is interesting. Although it does not effect the salary, the previous grades immensely affect the chance to get a job. We will need to take a look at this."
   ]
  },
  {
   "cell_type": "markdown",
   "metadata": {},
   "source": [
    "## Taking care of categorical features"
   ]
  },
  {
   "cell_type": "code",
   "execution_count": 35,
   "metadata": {},
   "outputs": [
    {
     "name": "stdout",
     "output_type": "stream",
     "text": [
      "<class 'pandas.core.frame.DataFrame'>\n",
      "RangeIndex: 215 entries, 0 to 214\n",
      "Data columns (total 14 columns):\n",
      " #   Column                               Non-Null Count  Dtype  \n",
      "---  ------                               --------------  -----  \n",
      " 0   Gender                               215 non-null    object \n",
      " 1   LowerSecondarySchollGrade%           215 non-null    float64\n",
      " 2   LowerSecondarySchollBoard            215 non-null    object \n",
      " 3   HigherSecondarySchollGrade%          215 non-null    float64\n",
      " 4   HigherSecondarySchollBoard           215 non-null    object \n",
      " 5   HigherSecondarySchollSpecialization  215 non-null    object \n",
      " 6   DegreeGrade%                         215 non-null    float64\n",
      " 7   DegreeSpecialization                 215 non-null    object \n",
      " 8   WorkExperience                       215 non-null    object \n",
      " 9   EmployabilityTestGrade%              215 non-null    float64\n",
      " 10  MBASpecialization                    215 non-null    object \n",
      " 11  MBAGrade%                            215 non-null    float64\n",
      " 12  PlacementStatus                      215 non-null    object \n",
      " 13  Salary                               148 non-null    float64\n",
      "dtypes: float64(6), object(8)\n",
      "memory usage: 23.6+ KB\n"
     ]
    }
   ],
   "source": [
    "data.info()"
   ]
  },
  {
   "cell_type": "code",
   "execution_count": 36,
   "metadata": {},
   "outputs": [
    {
     "data": {
      "text/plain": [
       "M    139\n",
       "F     76\n",
       "Name: Gender, dtype: int64"
      ]
     },
     "execution_count": 36,
     "metadata": {},
     "output_type": "execute_result"
    }
   ],
   "source": [
    "data[\"Gender\"].value_counts()"
   ]
  },
  {
   "cell_type": "code",
   "execution_count": 37,
   "metadata": {},
   "outputs": [
    {
     "data": {
      "text/plain": [
       "Central    116\n",
       "Others      99\n",
       "Name: LowerSecondarySchollBoard, dtype: int64"
      ]
     },
     "execution_count": 37,
     "metadata": {},
     "output_type": "execute_result"
    }
   ],
   "source": [
    "data[\"LowerSecondarySchollBoard\"].value_counts()"
   ]
  },
  {
   "cell_type": "code",
   "execution_count": 38,
   "metadata": {},
   "outputs": [
    {
     "data": {
      "text/plain": [
       "Others     131\n",
       "Central     84\n",
       "Name: HigherSecondarySchollBoard, dtype: int64"
      ]
     },
     "execution_count": 38,
     "metadata": {},
     "output_type": "execute_result"
    }
   ],
   "source": [
    "data[\"HigherSecondarySchollBoard\"].value_counts()"
   ]
  },
  {
   "cell_type": "code",
   "execution_count": 39,
   "metadata": {},
   "outputs": [
    {
     "data": {
      "text/plain": [
       "Commerce    113\n",
       "Science      91\n",
       "Arts         11\n",
       "Name: HigherSecondarySchollSpecialization, dtype: int64"
      ]
     },
     "execution_count": 39,
     "metadata": {},
     "output_type": "execute_result"
    }
   ],
   "source": [
    "data[\"HigherSecondarySchollSpecialization\"].value_counts()"
   ]
  },
  {
   "cell_type": "code",
   "execution_count": 40,
   "metadata": {},
   "outputs": [
    {
     "data": {
      "text/plain": [
       "Comm&Mgmt    145\n",
       "Sci&Tech      59\n",
       "Others        11\n",
       "Name: DegreeSpecialization, dtype: int64"
      ]
     },
     "execution_count": 40,
     "metadata": {},
     "output_type": "execute_result"
    }
   ],
   "source": [
    "data[\"DegreeSpecialization\"].value_counts()"
   ]
  },
  {
   "cell_type": "code",
   "execution_count": 41,
   "metadata": {},
   "outputs": [
    {
     "data": {
      "text/plain": [
       "No     141\n",
       "Yes     74\n",
       "Name: WorkExperience, dtype: int64"
      ]
     },
     "execution_count": 41,
     "metadata": {},
     "output_type": "execute_result"
    }
   ],
   "source": [
    "data[\"WorkExperience\"].value_counts()"
   ]
  },
  {
   "cell_type": "code",
   "execution_count": 42,
   "metadata": {},
   "outputs": [
    {
     "data": {
      "text/plain": [
       "Mkt&Fin    120\n",
       "Mkt&HR      95\n",
       "Name: MBASpecialization, dtype: int64"
      ]
     },
     "execution_count": 42,
     "metadata": {},
     "output_type": "execute_result"
    }
   ],
   "source": [
    "data[\"MBASpecialization\"].value_counts()"
   ]
  },
  {
   "cell_type": "code",
   "execution_count": 43,
   "metadata": {},
   "outputs": [
    {
     "data": {
      "text/plain": [
       "Placed        148\n",
       "Not Placed     67\n",
       "Name: PlacementStatus, dtype: int64"
      ]
     },
     "execution_count": 43,
     "metadata": {},
     "output_type": "execute_result"
    }
   ],
   "source": [
    "data[\"PlacementStatus\"].value_counts()"
   ]
  },
  {
   "cell_type": "markdown",
   "metadata": {},
   "source": [
    "## Encoding\n",
    "\n",
    "We will Label Encode (no new columns) categorical features that only have two unique values. e.g. Gender M/F and Hot Encoded every other categorical column (columns with more than 2 unique values)"
   ]
  },
  {
   "cell_type": "code",
   "execution_count": 44,
   "metadata": {},
   "outputs": [],
   "source": [
    "def label_encoding(data):\n",
    "    le = LabelEncoder()\n",
    "    le.fit(data)\n",
    "    return le.transform(data)"
   ]
  },
  {
   "cell_type": "code",
   "execution_count": 45,
   "metadata": {},
   "outputs": [],
   "source": [
    "def one_hot_encoding(data):\n",
    "    return pd.get_dummies(data)"
   ]
  },
  {
   "cell_type": "code",
   "execution_count": 46,
   "metadata": {},
   "outputs": [],
   "source": [
    "data[\"Gender\"] = label_encoding(data[\"Gender\"])\n",
    "data[\"LowerSecondarySchollBoard\"] = label_encoding(data[\"LowerSecondarySchollBoard\"])\n",
    "data[\"HigherSecondarySchollBoard\"] = label_encoding(data[\"HigherSecondarySchollBoard\"])\n",
    "data[\"WorkExperience\"] = label_encoding(data[\"WorkExperience\"])\n",
    "data[\"MBASpecialization\"] = label_encoding(data[\"MBASpecialization\"])\n",
    "data[\"PlacementStatus\"] = label_encoding(data[\"PlacementStatus\"])"
   ]
  },
  {
   "cell_type": "code",
   "execution_count": 47,
   "metadata": {},
   "outputs": [],
   "source": [
    "data = one_hot_encoding(data)"
   ]
  },
  {
   "cell_type": "code",
   "execution_count": 48,
   "metadata": {},
   "outputs": [
    {
     "data": {
      "text/html": [
       "<div>\n",
       "<style scoped>\n",
       "    .dataframe tbody tr th:only-of-type {\n",
       "        vertical-align: middle;\n",
       "    }\n",
       "\n",
       "    .dataframe tbody tr th {\n",
       "        vertical-align: top;\n",
       "    }\n",
       "\n",
       "    .dataframe thead th {\n",
       "        text-align: right;\n",
       "    }\n",
       "</style>\n",
       "<table border=\"1\" class=\"dataframe\">\n",
       "  <thead>\n",
       "    <tr style=\"text-align: right;\">\n",
       "      <th></th>\n",
       "      <th>Gender</th>\n",
       "      <th>LowerSecondarySchollGrade%</th>\n",
       "      <th>LowerSecondarySchollBoard</th>\n",
       "      <th>HigherSecondarySchollGrade%</th>\n",
       "      <th>HigherSecondarySchollBoard</th>\n",
       "      <th>DegreeGrade%</th>\n",
       "      <th>WorkExperience</th>\n",
       "      <th>EmployabilityTestGrade%</th>\n",
       "      <th>MBASpecialization</th>\n",
       "      <th>MBAGrade%</th>\n",
       "      <th>PlacementStatus</th>\n",
       "      <th>Salary</th>\n",
       "      <th>HigherSecondarySchollSpecialization_Arts</th>\n",
       "      <th>HigherSecondarySchollSpecialization_Commerce</th>\n",
       "      <th>HigherSecondarySchollSpecialization_Science</th>\n",
       "      <th>DegreeSpecialization_Comm&amp;Mgmt</th>\n",
       "      <th>DegreeSpecialization_Others</th>\n",
       "      <th>DegreeSpecialization_Sci&amp;Tech</th>\n",
       "    </tr>\n",
       "  </thead>\n",
       "  <tbody>\n",
       "    <tr>\n",
       "      <th>0</th>\n",
       "      <td>1</td>\n",
       "      <td>67.00</td>\n",
       "      <td>1</td>\n",
       "      <td>91.00</td>\n",
       "      <td>1</td>\n",
       "      <td>58.00</td>\n",
       "      <td>0</td>\n",
       "      <td>55.00</td>\n",
       "      <td>1</td>\n",
       "      <td>58.80</td>\n",
       "      <td>1</td>\n",
       "      <td>270000.0</td>\n",
       "      <td>0</td>\n",
       "      <td>1</td>\n",
       "      <td>0</td>\n",
       "      <td>0</td>\n",
       "      <td>0</td>\n",
       "      <td>1</td>\n",
       "    </tr>\n",
       "    <tr>\n",
       "      <th>1</th>\n",
       "      <td>1</td>\n",
       "      <td>79.33</td>\n",
       "      <td>0</td>\n",
       "      <td>78.33</td>\n",
       "      <td>1</td>\n",
       "      <td>77.48</td>\n",
       "      <td>1</td>\n",
       "      <td>86.50</td>\n",
       "      <td>0</td>\n",
       "      <td>66.28</td>\n",
       "      <td>1</td>\n",
       "      <td>200000.0</td>\n",
       "      <td>0</td>\n",
       "      <td>0</td>\n",
       "      <td>1</td>\n",
       "      <td>0</td>\n",
       "      <td>0</td>\n",
       "      <td>1</td>\n",
       "    </tr>\n",
       "    <tr>\n",
       "      <th>2</th>\n",
       "      <td>1</td>\n",
       "      <td>65.00</td>\n",
       "      <td>0</td>\n",
       "      <td>68.00</td>\n",
       "      <td>0</td>\n",
       "      <td>64.00</td>\n",
       "      <td>0</td>\n",
       "      <td>75.00</td>\n",
       "      <td>0</td>\n",
       "      <td>57.80</td>\n",
       "      <td>1</td>\n",
       "      <td>250000.0</td>\n",
       "      <td>1</td>\n",
       "      <td>0</td>\n",
       "      <td>0</td>\n",
       "      <td>1</td>\n",
       "      <td>0</td>\n",
       "      <td>0</td>\n",
       "    </tr>\n",
       "    <tr>\n",
       "      <th>3</th>\n",
       "      <td>1</td>\n",
       "      <td>56.00</td>\n",
       "      <td>0</td>\n",
       "      <td>52.00</td>\n",
       "      <td>0</td>\n",
       "      <td>52.00</td>\n",
       "      <td>0</td>\n",
       "      <td>66.00</td>\n",
       "      <td>1</td>\n",
       "      <td>59.43</td>\n",
       "      <td>0</td>\n",
       "      <td>NaN</td>\n",
       "      <td>0</td>\n",
       "      <td>0</td>\n",
       "      <td>1</td>\n",
       "      <td>0</td>\n",
       "      <td>0</td>\n",
       "      <td>1</td>\n",
       "    </tr>\n",
       "    <tr>\n",
       "      <th>4</th>\n",
       "      <td>1</td>\n",
       "      <td>85.80</td>\n",
       "      <td>0</td>\n",
       "      <td>73.60</td>\n",
       "      <td>0</td>\n",
       "      <td>73.30</td>\n",
       "      <td>0</td>\n",
       "      <td>96.80</td>\n",
       "      <td>0</td>\n",
       "      <td>55.50</td>\n",
       "      <td>1</td>\n",
       "      <td>425000.0</td>\n",
       "      <td>0</td>\n",
       "      <td>1</td>\n",
       "      <td>0</td>\n",
       "      <td>1</td>\n",
       "      <td>0</td>\n",
       "      <td>0</td>\n",
       "    </tr>\n",
       "    <tr>\n",
       "      <th>5</th>\n",
       "      <td>1</td>\n",
       "      <td>55.00</td>\n",
       "      <td>1</td>\n",
       "      <td>49.80</td>\n",
       "      <td>1</td>\n",
       "      <td>67.25</td>\n",
       "      <td>1</td>\n",
       "      <td>55.00</td>\n",
       "      <td>0</td>\n",
       "      <td>51.58</td>\n",
       "      <td>0</td>\n",
       "      <td>NaN</td>\n",
       "      <td>0</td>\n",
       "      <td>0</td>\n",
       "      <td>1</td>\n",
       "      <td>0</td>\n",
       "      <td>0</td>\n",
       "      <td>1</td>\n",
       "    </tr>\n",
       "    <tr>\n",
       "      <th>6</th>\n",
       "      <td>0</td>\n",
       "      <td>46.00</td>\n",
       "      <td>1</td>\n",
       "      <td>49.20</td>\n",
       "      <td>1</td>\n",
       "      <td>79.00</td>\n",
       "      <td>0</td>\n",
       "      <td>74.28</td>\n",
       "      <td>0</td>\n",
       "      <td>53.29</td>\n",
       "      <td>0</td>\n",
       "      <td>NaN</td>\n",
       "      <td>0</td>\n",
       "      <td>1</td>\n",
       "      <td>0</td>\n",
       "      <td>1</td>\n",
       "      <td>0</td>\n",
       "      <td>0</td>\n",
       "    </tr>\n",
       "    <tr>\n",
       "      <th>7</th>\n",
       "      <td>1</td>\n",
       "      <td>82.00</td>\n",
       "      <td>0</td>\n",
       "      <td>64.00</td>\n",
       "      <td>0</td>\n",
       "      <td>66.00</td>\n",
       "      <td>1</td>\n",
       "      <td>67.00</td>\n",
       "      <td>0</td>\n",
       "      <td>62.14</td>\n",
       "      <td>1</td>\n",
       "      <td>252000.0</td>\n",
       "      <td>0</td>\n",
       "      <td>0</td>\n",
       "      <td>1</td>\n",
       "      <td>0</td>\n",
       "      <td>0</td>\n",
       "      <td>1</td>\n",
       "    </tr>\n",
       "    <tr>\n",
       "      <th>8</th>\n",
       "      <td>1</td>\n",
       "      <td>73.00</td>\n",
       "      <td>0</td>\n",
       "      <td>79.00</td>\n",
       "      <td>0</td>\n",
       "      <td>72.00</td>\n",
       "      <td>0</td>\n",
       "      <td>91.34</td>\n",
       "      <td>0</td>\n",
       "      <td>61.29</td>\n",
       "      <td>1</td>\n",
       "      <td>231000.0</td>\n",
       "      <td>0</td>\n",
       "      <td>1</td>\n",
       "      <td>0</td>\n",
       "      <td>1</td>\n",
       "      <td>0</td>\n",
       "      <td>0</td>\n",
       "    </tr>\n",
       "    <tr>\n",
       "      <th>9</th>\n",
       "      <td>1</td>\n",
       "      <td>58.00</td>\n",
       "      <td>0</td>\n",
       "      <td>70.00</td>\n",
       "      <td>0</td>\n",
       "      <td>61.00</td>\n",
       "      <td>0</td>\n",
       "      <td>54.00</td>\n",
       "      <td>0</td>\n",
       "      <td>52.21</td>\n",
       "      <td>0</td>\n",
       "      <td>NaN</td>\n",
       "      <td>0</td>\n",
       "      <td>1</td>\n",
       "      <td>0</td>\n",
       "      <td>1</td>\n",
       "      <td>0</td>\n",
       "      <td>0</td>\n",
       "    </tr>\n",
       "  </tbody>\n",
       "</table>\n",
       "</div>"
      ],
      "text/plain": [
       "   Gender  LowerSecondarySchollGrade%  LowerSecondarySchollBoard  \\\n",
       "0       1                       67.00                          1   \n",
       "1       1                       79.33                          0   \n",
       "2       1                       65.00                          0   \n",
       "3       1                       56.00                          0   \n",
       "4       1                       85.80                          0   \n",
       "5       1                       55.00                          1   \n",
       "6       0                       46.00                          1   \n",
       "7       1                       82.00                          0   \n",
       "8       1                       73.00                          0   \n",
       "9       1                       58.00                          0   \n",
       "\n",
       "   HigherSecondarySchollGrade%  HigherSecondarySchollBoard  DegreeGrade%  \\\n",
       "0                        91.00                           1         58.00   \n",
       "1                        78.33                           1         77.48   \n",
       "2                        68.00                           0         64.00   \n",
       "3                        52.00                           0         52.00   \n",
       "4                        73.60                           0         73.30   \n",
       "5                        49.80                           1         67.25   \n",
       "6                        49.20                           1         79.00   \n",
       "7                        64.00                           0         66.00   \n",
       "8                        79.00                           0         72.00   \n",
       "9                        70.00                           0         61.00   \n",
       "\n",
       "   WorkExperience  EmployabilityTestGrade%  MBASpecialization  MBAGrade%  \\\n",
       "0               0                    55.00                  1      58.80   \n",
       "1               1                    86.50                  0      66.28   \n",
       "2               0                    75.00                  0      57.80   \n",
       "3               0                    66.00                  1      59.43   \n",
       "4               0                    96.80                  0      55.50   \n",
       "5               1                    55.00                  0      51.58   \n",
       "6               0                    74.28                  0      53.29   \n",
       "7               1                    67.00                  0      62.14   \n",
       "8               0                    91.34                  0      61.29   \n",
       "9               0                    54.00                  0      52.21   \n",
       "\n",
       "   PlacementStatus    Salary  HigherSecondarySchollSpecialization_Arts  \\\n",
       "0                1  270000.0                                         0   \n",
       "1                1  200000.0                                         0   \n",
       "2                1  250000.0                                         1   \n",
       "3                0       NaN                                         0   \n",
       "4                1  425000.0                                         0   \n",
       "5                0       NaN                                         0   \n",
       "6                0       NaN                                         0   \n",
       "7                1  252000.0                                         0   \n",
       "8                1  231000.0                                         0   \n",
       "9                0       NaN                                         0   \n",
       "\n",
       "   HigherSecondarySchollSpecialization_Commerce  \\\n",
       "0                                             1   \n",
       "1                                             0   \n",
       "2                                             0   \n",
       "3                                             0   \n",
       "4                                             1   \n",
       "5                                             0   \n",
       "6                                             1   \n",
       "7                                             0   \n",
       "8                                             1   \n",
       "9                                             1   \n",
       "\n",
       "   HigherSecondarySchollSpecialization_Science  \\\n",
       "0                                            0   \n",
       "1                                            1   \n",
       "2                                            0   \n",
       "3                                            1   \n",
       "4                                            0   \n",
       "5                                            1   \n",
       "6                                            0   \n",
       "7                                            1   \n",
       "8                                            0   \n",
       "9                                            0   \n",
       "\n",
       "   DegreeSpecialization_Comm&Mgmt  DegreeSpecialization_Others  \\\n",
       "0                               0                            0   \n",
       "1                               0                            0   \n",
       "2                               1                            0   \n",
       "3                               0                            0   \n",
       "4                               1                            0   \n",
       "5                               0                            0   \n",
       "6                               1                            0   \n",
       "7                               0                            0   \n",
       "8                               1                            0   \n",
       "9                               1                            0   \n",
       "\n",
       "   DegreeSpecialization_Sci&Tech  \n",
       "0                              1  \n",
       "1                              1  \n",
       "2                              0  \n",
       "3                              1  \n",
       "4                              0  \n",
       "5                              1  \n",
       "6                              0  \n",
       "7                              1  \n",
       "8                              0  \n",
       "9                              0  "
      ]
     },
     "execution_count": 48,
     "metadata": {},
     "output_type": "execute_result"
    }
   ],
   "source": [
    "data.head(10)"
   ]
  },
  {
   "cell_type": "code",
   "execution_count": 49,
   "metadata": {},
   "outputs": [
    {
     "name": "stdout",
     "output_type": "stream",
     "text": [
      "<class 'pandas.core.frame.DataFrame'>\n",
      "RangeIndex: 215 entries, 0 to 214\n",
      "Data columns (total 18 columns):\n",
      " #   Column                                        Non-Null Count  Dtype  \n",
      "---  ------                                        --------------  -----  \n",
      " 0   Gender                                        215 non-null    int64  \n",
      " 1   LowerSecondarySchollGrade%                    215 non-null    float64\n",
      " 2   LowerSecondarySchollBoard                     215 non-null    int64  \n",
      " 3   HigherSecondarySchollGrade%                   215 non-null    float64\n",
      " 4   HigherSecondarySchollBoard                    215 non-null    int64  \n",
      " 5   DegreeGrade%                                  215 non-null    float64\n",
      " 6   WorkExperience                                215 non-null    int64  \n",
      " 7   EmployabilityTestGrade%                       215 non-null    float64\n",
      " 8   MBASpecialization                             215 non-null    int64  \n",
      " 9   MBAGrade%                                     215 non-null    float64\n",
      " 10  PlacementStatus                               215 non-null    int64  \n",
      " 11  Salary                                        148 non-null    float64\n",
      " 12  HigherSecondarySchollSpecialization_Arts      215 non-null    uint8  \n",
      " 13  HigherSecondarySchollSpecialization_Commerce  215 non-null    uint8  \n",
      " 14  HigherSecondarySchollSpecialization_Science   215 non-null    uint8  \n",
      " 15  DegreeSpecialization_Comm&Mgmt                215 non-null    uint8  \n",
      " 16  DegreeSpecialization_Others                   215 non-null    uint8  \n",
      " 17  DegreeSpecialization_Sci&Tech                 215 non-null    uint8  \n",
      "dtypes: float64(6), int64(6), uint8(6)\n",
      "memory usage: 21.5 KB\n"
     ]
    }
   ],
   "source": [
    "data.info()"
   ]
  },
  {
   "cell_type": "markdown",
   "metadata": {},
   "source": [
    "## Correlations"
   ]
  },
  {
   "cell_type": "code",
   "execution_count": 50,
   "metadata": {},
   "outputs": [
    {
     "data": {
      "text/plain": [
       "DegreeSpecialization_Comm&Mgmt                 -0.160322\n",
       "MBASpecialization                              -0.146576\n",
       "HigherSecondarySchollSpecialization_Arts       -0.088253\n",
       "DegreeGrade%                                   -0.019272\n",
       "DegreeSpecialization_Others                    -0.016573\n",
       "HigherSecondarySchollSpecialization_Commerce   -0.014219\n",
       "HigherSecondarySchollBoard                     -0.007549\n",
       "LowerSecondarySchollBoard                       0.005539\n",
       "LowerSecondarySchollGrade%                      0.035330\n",
       "HigherSecondarySchollSpecialization_Science     0.049547\n",
       "HigherSecondarySchollGrade%                     0.076819\n",
       "WorkExperience                                  0.136920\n",
       "Gender                                          0.158912\n",
       "DegreeSpecialization_Sci&Tech                   0.172492\n",
       "MBAGrade%                                       0.175013\n",
       "EmployabilityTestGrade%                         0.178307\n",
       "Salary                                          1.000000\n",
       "PlacementStatus                                      NaN\n",
       "Name: Salary, dtype: float64"
      ]
     },
     "execution_count": 50,
     "metadata": {},
     "output_type": "execute_result"
    }
   ],
   "source": [
    "salary_corr = data[data[\"PlacementStatus\"] == 1].corr()[\"Salary\"].sort_values()\n",
    "\n",
    "# Display correlations\n",
    "salary_corr # corr() returns NaN if all values are that same, which is the case with PlacementStatus"
   ]
  },
  {
   "cell_type": "code",
   "execution_count": 51,
   "metadata": {},
   "outputs": [
    {
     "data": {
      "text/plain": [
       "MBASpecialization                              -0.250655\n",
       "DegreeSpecialization_Others                    -0.117232\n",
       "HigherSecondarySchollSpecialization_Arts       -0.071653\n",
       "HigherSecondarySchollSpecialization_Science     0.007279\n",
       "DegreeSpecialization_Sci&Tech                   0.008688\n",
       "HigherSecondarySchollBoard                      0.016945\n",
       "HigherSecondarySchollSpecialization_Commerce    0.024414\n",
       "LowerSecondarySchollBoard                       0.037297\n",
       "DegreeSpecialization_Comm&Mgmt                  0.046849\n",
       "MBAGrade%                                       0.076922\n",
       "Gender                                          0.090670\n",
       "EmployabilityTestGrade%                         0.127639\n",
       "WorkExperience                                  0.276060\n",
       "DegreeGrade%                                    0.479861\n",
       "HigherSecondarySchollGrade%                     0.491228\n",
       "LowerSecondarySchollGrade%                      0.607889\n",
       "PlacementStatus                                 1.000000\n",
       "Salary                                               NaN\n",
       "Name: PlacementStatus, dtype: float64"
      ]
     },
     "execution_count": 51,
     "metadata": {},
     "output_type": "execute_result"
    }
   ],
   "source": [
    "placement_corr = data.corr()[\"PlacementStatus\"].sort_values()\n",
    "\n",
    "# Display correlations\n",
    "placement_corr # Here we are looking at PlacementStatus, so Salary is not important and we will ignore the NaN"
   ]
  },
  {
   "cell_type": "markdown",
   "metadata": {},
   "source": [
    "These results allow us to see what are the features that most relate with what we are trying to predict.\n",
    "\n",
    "In the case o PlacementStatus, having high grades during your education (specially basic education) has a huge factor on employability, alongside work experience and the MBA field of choice. \n",
    "\n",
    "In the case of salary, major factors are the specialization and most recent grades."
   ]
  },
  {
   "cell_type": "markdown",
   "metadata": {},
   "source": [
    "## Feature Engineering and Selection\n",
    "\n",
    "I will start selecting the features that might give out the best results, and do some engineering on the features.\n",
    "\n",
    "Lets start by the selection: remove the features that does not seem to have a relation with the problem. I have decided to only drop the School Boards, as I want to test the other features before taking a decision."
   ]
  },
  {
   "cell_type": "code",
   "execution_count": 52,
   "metadata": {},
   "outputs": [
    {
     "name": "stdout",
     "output_type": "stream",
     "text": [
      "<class 'pandas.core.frame.DataFrame'>\n",
      "RangeIndex: 215 entries, 0 to 214\n",
      "Data columns (total 16 columns):\n",
      " #   Column                                        Non-Null Count  Dtype  \n",
      "---  ------                                        --------------  -----  \n",
      " 0   Gender                                        215 non-null    int64  \n",
      " 1   LowerSecondarySchollGrade%                    215 non-null    float64\n",
      " 2   HigherSecondarySchollGrade%                   215 non-null    float64\n",
      " 3   DegreeGrade%                                  215 non-null    float64\n",
      " 4   WorkExperience                                215 non-null    int64  \n",
      " 5   EmployabilityTestGrade%                       215 non-null    float64\n",
      " 6   MBASpecialization                             215 non-null    int64  \n",
      " 7   MBAGrade%                                     215 non-null    float64\n",
      " 8   PlacementStatus                               215 non-null    int64  \n",
      " 9   Salary                                        148 non-null    float64\n",
      " 10  HigherSecondarySchollSpecialization_Arts      215 non-null    uint8  \n",
      " 11  HigherSecondarySchollSpecialization_Commerce  215 non-null    uint8  \n",
      " 12  HigherSecondarySchollSpecialization_Science   215 non-null    uint8  \n",
      " 13  DegreeSpecialization_Comm&Mgmt                215 non-null    uint8  \n",
      " 14  DegreeSpecialization_Others                   215 non-null    uint8  \n",
      " 15  DegreeSpecialization_Sci&Tech                 215 non-null    uint8  \n",
      "dtypes: float64(6), int64(4), uint8(6)\n",
      "memory usage: 18.2 KB\n"
     ]
    }
   ],
   "source": [
    "columns_to_drop = [\n",
    "    \"LowerSecondarySchollBoard\", \n",
    "    \"HigherSecondarySchollBoard\",\n",
    "]\n",
    "data.drop(columns_to_drop, axis=1, inplace=True)\n",
    "\n",
    "data.info()"
   ]
  },
  {
   "cell_type": "markdown",
   "metadata": {},
   "source": [
    "Now, lets create some polynomial features"
   ]
  },
  {
   "cell_type": "code",
   "execution_count": 53,
   "metadata": {},
   "outputs": [
    {
     "name": "stdout",
     "output_type": "stream",
     "text": [
      "<class 'pandas.core.frame.DataFrame'>\n",
      "RangeIndex: 215 entries, 0 to 214\n",
      "Data columns (total 31 columns):\n",
      " #   Column                                                  Non-Null Count  Dtype  \n",
      "---  ------                                                  --------------  -----  \n",
      " 0   Gender                                                  215 non-null    int64  \n",
      " 1   LowerSecondarySchollGrade%                              215 non-null    float64\n",
      " 2   HigherSecondarySchollGrade%                             215 non-null    float64\n",
      " 3   DegreeGrade%                                            215 non-null    float64\n",
      " 4   WorkExperience                                          215 non-null    int64  \n",
      " 5   EmployabilityTestGrade%                                 215 non-null    float64\n",
      " 6   MBASpecialization                                       215 non-null    int64  \n",
      " 7   MBAGrade%                                               215 non-null    float64\n",
      " 8   PlacementStatus                                         215 non-null    int64  \n",
      " 9   Salary                                                  148 non-null    float64\n",
      " 10  HigherSecondarySchollSpecialization_Arts                215 non-null    uint8  \n",
      " 11  HigherSecondarySchollSpecialization_Commerce            215 non-null    uint8  \n",
      " 12  HigherSecondarySchollSpecialization_Science             215 non-null    uint8  \n",
      " 13  DegreeSpecialization_Comm&Mgmt                          215 non-null    uint8  \n",
      " 14  DegreeSpecialization_Others                             215 non-null    uint8  \n",
      " 15  DegreeSpecialization_Sci&Tech                           215 non-null    uint8  \n",
      " 16  LowerSecondarySchollGrade%^2                            215 non-null    float64\n",
      " 17  LowerSecondarySchollGrade% HigherSecondarySchollGrade%  215 non-null    float64\n",
      " 18  LowerSecondarySchollGrade% DegreeGrade%                 215 non-null    float64\n",
      " 19  LowerSecondarySchollGrade% MBAGrade%                    215 non-null    float64\n",
      " 20  LowerSecondarySchollGrade% EmployabilityTestGrade%      215 non-null    float64\n",
      " 21  HigherSecondarySchollGrade%^2                           215 non-null    float64\n",
      " 22  HigherSecondarySchollGrade% DegreeGrade%                215 non-null    float64\n",
      " 23  HigherSecondarySchollGrade% MBAGrade%                   215 non-null    float64\n",
      " 24  HigherSecondarySchollGrade% EmployabilityTestGrade%     215 non-null    float64\n",
      " 25  DegreeGrade%^2                                          215 non-null    float64\n",
      " 26  DegreeGrade% MBAGrade%                                  215 non-null    float64\n",
      " 27  DegreeGrade% EmployabilityTestGrade%                    215 non-null    float64\n",
      " 28  MBAGrade%^2                                             215 non-null    float64\n",
      " 29  MBAGrade% EmployabilityTestGrade%                       215 non-null    float64\n",
      " 30  EmployabilityTestGrade%^2                               215 non-null    float64\n",
      "dtypes: float64(21), int64(4), uint8(6)\n",
      "memory usage: 43.4 KB\n"
     ]
    }
   ],
   "source": [
    "poly_transformer = PolynomialFeatures(degree=2)\n",
    "\n",
    "features = [\n",
    "    \"LowerSecondarySchollGrade%\", \n",
    "    \"HigherSecondarySchollGrade%\",\n",
    "    \"DegreeGrade%\",\n",
    "    \"MBAGrade%\",\n",
    "    \"EmployabilityTestGrade%\"\n",
    "]\n",
    "\n",
    "poly = pd.DataFrame(poly_transformer.fit_transform(data[features]), columns=poly_transformer.get_feature_names(features))\n",
    "poly_data = pd.concat([data, poly], axis=1)\n",
    "poly_data.drop([\"1\"], axis=1, inplace=True)\n",
    "poly_data = poly_data.loc[:,~poly_data.columns.duplicated()]\n",
    "poly_data.info()"
   ]
  },
  {
   "cell_type": "code",
   "execution_count": 54,
   "metadata": {},
   "outputs": [
    {
     "name": "stdout",
     "output_type": "stream",
     "text": [
      "Head:\n",
      " DegreeSpecialization_Comm&Mgmt                           -0.160322\n",
      "MBASpecialization                                        -0.146576\n",
      "HigherSecondarySchollSpecialization_Arts                 -0.088253\n",
      "DegreeGrade%                                             -0.019272\n",
      "DegreeGrade%^2                                           -0.018558\n",
      "DegreeSpecialization_Others                              -0.016573\n",
      "HigherSecondarySchollSpecialization_Commerce             -0.014219\n",
      "LowerSecondarySchollGrade% DegreeGrade%                   0.013722\n",
      "LowerSecondarySchollGrade%                                0.035330\n",
      "LowerSecondarySchollGrade%^2                              0.037849\n",
      "HigherSecondarySchollSpecialization_Science               0.049547\n",
      "HigherSecondarySchollGrade% DegreeGrade%                  0.064644\n",
      "LowerSecondarySchollGrade% HigherSecondarySchollGrade%    0.069953\n",
      "HigherSecondarySchollGrade%                               0.076819\n",
      "DegreeGrade% MBAGrade%                                    0.089211\n",
      "HigherSecondarySchollGrade%^2                             0.089581\n",
      "LowerSecondarySchollGrade% MBAGrade%                      0.110090\n",
      "WorkExperience                                            0.136920\n",
      "DegreeGrade% EmployabilityTestGrade%                      0.140494\n",
      "LowerSecondarySchollGrade% EmployabilityTestGrade%        0.143611\n",
      "Name: Salary, dtype: float64\n",
      "\n",
      "\n",
      "Tail:\n",
      " HigherSecondarySchollGrade% DegreeGrade%                  0.064644\n",
      "LowerSecondarySchollGrade% HigherSecondarySchollGrade%    0.069953\n",
      "HigherSecondarySchollGrade%                               0.076819\n",
      "DegreeGrade% MBAGrade%                                    0.089211\n",
      "HigherSecondarySchollGrade%^2                             0.089581\n",
      "LowerSecondarySchollGrade% MBAGrade%                      0.110090\n",
      "WorkExperience                                            0.136920\n",
      "DegreeGrade% EmployabilityTestGrade%                      0.140494\n",
      "LowerSecondarySchollGrade% EmployabilityTestGrade%        0.143611\n",
      "HigherSecondarySchollGrade% MBAGrade%                     0.145131\n",
      "Gender                                                    0.158912\n",
      "DegreeSpecialization_Sci&Tech                             0.172492\n",
      "MBAGrade%^2                                               0.173582\n",
      "MBAGrade%                                                 0.175013\n",
      "HigherSecondarySchollGrade% EmployabilityTestGrade%       0.176678\n",
      "EmployabilityTestGrade%^2                                 0.177405\n",
      "EmployabilityTestGrade%                                   0.178307\n",
      "MBAGrade% EmployabilityTestGrade%                         0.215246\n",
      "Salary                                                    1.000000\n",
      "PlacementStatus                                                NaN\n",
      "Name: Salary, dtype: float64\n"
     ]
    }
   ],
   "source": [
    "nsalary_corr = poly_data[poly_data[\"PlacementStatus\"] == 1].corr()[\"Salary\"].sort_values()\n",
    "\n",
    "# Display correlations\n",
    "print(\"Head:\\n\", nsalary_corr.head(20))\n",
    "print(\"\\n\\nTail:\\n\", nsalary_corr.tail(20))"
   ]
  },
  {
   "cell_type": "code",
   "execution_count": 55,
   "metadata": {},
   "outputs": [
    {
     "name": "stdout",
     "output_type": "stream",
     "text": [
      "Head:\n",
      " MBASpecialization                                     -0.250655\n",
      "DegreeSpecialization_Others                           -0.117232\n",
      "HigherSecondarySchollSpecialization_Arts              -0.071653\n",
      "HigherSecondarySchollSpecialization_Science            0.007279\n",
      "DegreeSpecialization_Sci&Tech                          0.008688\n",
      "HigherSecondarySchollSpecialization_Commerce           0.024414\n",
      "DegreeSpecialization_Comm&Mgmt                         0.046849\n",
      "MBAGrade%                                              0.076922\n",
      "MBAGrade%^2                                            0.076946\n",
      "Gender                                                 0.090670\n",
      "EmployabilityTestGrade%                                0.127639\n",
      "EmployabilityTestGrade%^2                              0.133916\n",
      "MBAGrade% EmployabilityTestGrade%                      0.144160\n",
      "WorkExperience                                         0.276060\n",
      "DegreeGrade% EmployabilityTestGrade%                   0.318865\n",
      "DegreeGrade% MBAGrade%                                 0.350378\n",
      "HigherSecondarySchollGrade% EmployabilityTestGrade%    0.371810\n",
      "HigherSecondarySchollGrade% MBAGrade%                  0.396623\n",
      "LowerSecondarySchollGrade% EmployabilityTestGrade%     0.437392\n",
      "HigherSecondarySchollGrade%^2                          0.462019\n",
      "Name: PlacementStatus, dtype: float64\n",
      "\n",
      "\n",
      "Tail:\n",
      " EmployabilityTestGrade%^2                                 0.133916\n",
      "MBAGrade% EmployabilityTestGrade%                         0.144160\n",
      "WorkExperience                                            0.276060\n",
      "DegreeGrade% EmployabilityTestGrade%                      0.318865\n",
      "DegreeGrade% MBAGrade%                                    0.350378\n",
      "HigherSecondarySchollGrade% EmployabilityTestGrade%       0.371810\n",
      "HigherSecondarySchollGrade% MBAGrade%                     0.396623\n",
      "LowerSecondarySchollGrade% EmployabilityTestGrade%        0.437392\n",
      "HigherSecondarySchollGrade%^2                             0.462019\n",
      "DegreeGrade%^2                                            0.462987\n",
      "DegreeGrade%                                              0.479861\n",
      "LowerSecondarySchollGrade% MBAGrade%                      0.480976\n",
      "HigherSecondarySchollGrade%                               0.491228\n",
      "HigherSecondarySchollGrade% DegreeGrade%                  0.553547\n",
      "LowerSecondarySchollGrade%^2                              0.589314\n",
      "LowerSecondarySchollGrade%                                0.607889\n",
      "LowerSecondarySchollGrade% HigherSecondarySchollGrade%    0.613261\n",
      "LowerSecondarySchollGrade% DegreeGrade%                   0.614581\n",
      "PlacementStatus                                           1.000000\n",
      "Salary                                                         NaN\n",
      "Name: PlacementStatus, dtype: float64\n"
     ]
    }
   ],
   "source": [
    "nplacement_corr = poly_data.corr()[\"PlacementStatus\"].sort_values()\n",
    "\n",
    "# Display correlations\n",
    "print(\"Head:\\n\", nplacement_corr.head(20))\n",
    "print(\"\\n\\nTail:\\n\", nplacement_corr.tail(20))"
   ]
  },
  {
   "cell_type": "markdown",
   "metadata": {},
   "source": [
    "There seems to be no new feature that adds a huge benefit. So I will just use the original data for simplicity and to avoid overfitting."
   ]
  },
  {
   "cell_type": "markdown",
   "metadata": {},
   "source": [
    "## Problem 1: What are the major factors that lead to the person being hired\n",
    "\n",
    "We already answered this question in the data analysis phase. Things like MBA area of specialization, experience and grades are the most important here.\n",
    "\n",
    "We will try to predict if someone who just graduated from the MBA is employed.\n",
    "\n",
    "First, the preprocessing: remove the salary and any other feature that does not seems to be related to the problem. Finally, standardize the data."
   ]
  },
  {
   "cell_type": "code",
   "execution_count": 56,
   "metadata": {},
   "outputs": [
    {
     "data": {
      "text/plain": [
       "MBASpecialization                              -0.250655\n",
       "DegreeSpecialization_Others                    -0.117232\n",
       "HigherSecondarySchollSpecialization_Arts       -0.071653\n",
       "HigherSecondarySchollSpecialization_Science     0.007279\n",
       "DegreeSpecialization_Sci&Tech                   0.008688\n",
       "HigherSecondarySchollSpecialization_Commerce    0.024414\n",
       "DegreeSpecialization_Comm&Mgmt                  0.046849\n",
       "MBAGrade%                                       0.076922\n",
       "Gender                                          0.090670\n",
       "EmployabilityTestGrade%                         0.127639\n",
       "WorkExperience                                  0.276060\n",
       "DegreeGrade%                                    0.479861\n",
       "HigherSecondarySchollGrade%                     0.491228\n",
       "LowerSecondarySchollGrade%                      0.607889\n",
       "PlacementStatus                                 1.000000\n",
       "Salary                                               NaN\n",
       "Name: PlacementStatus, dtype: float64"
      ]
     },
     "execution_count": 56,
     "metadata": {},
     "output_type": "execute_result"
    }
   ],
   "source": [
    "placement_corr = data.corr()[\"PlacementStatus\"].sort_values()\n",
    "\n",
    "# Display correlations\n",
    "placement_corr # Here we are looking at PlacementStatus, so Salary is not important and we will ignore the NaN"
   ]
  },
  {
   "cell_type": "code",
   "execution_count": 57,
   "metadata": {},
   "outputs": [
    {
     "name": "stdout",
     "output_type": "stream",
     "text": [
      "<class 'pandas.core.frame.DataFrame'>\n",
      "RangeIndex: 215 entries, 0 to 214\n",
      "Data columns (total 8 columns):\n",
      " #   Column                       Non-Null Count  Dtype  \n",
      "---  ------                       --------------  -----  \n",
      " 0   Gender                       215 non-null    int64  \n",
      " 1   LowerSecondarySchollGrade%   215 non-null    float64\n",
      " 2   HigherSecondarySchollGrade%  215 non-null    float64\n",
      " 3   DegreeGrade%                 215 non-null    float64\n",
      " 4   WorkExperience               215 non-null    int64  \n",
      " 5   EmployabilityTestGrade%      215 non-null    float64\n",
      " 6   MBASpecialization            215 non-null    int64  \n",
      " 7   PlacementStatus              215 non-null    int64  \n",
      "dtypes: float64(4), int64(4)\n",
      "memory usage: 13.6 KB\n"
     ]
    }
   ],
   "source": [
    "columns_to_drop = [\n",
    "    \"Salary\", \n",
    "    \"HigherSecondarySchollSpecialization_Arts\",\n",
    "    \"HigherSecondarySchollSpecialization_Science\",\n",
    "    \"HigherSecondarySchollSpecialization_Commerce\",\n",
    "    \"DegreeSpecialization_Sci&Tech\",\n",
    "    \"DegreeSpecialization_Comm&Mgmt\",\n",
    "    \"DegreeSpecialization_Others\",\n",
    "    \"MBAGrade%\"\n",
    "]\n",
    "placement_data = data.drop(columns_to_drop, axis=1)\n",
    "\n",
    "placement_data.info()"
   ]
  },
  {
   "cell_type": "code",
   "execution_count": 58,
   "metadata": {},
   "outputs": [],
   "source": [
    "y = placement_data[\"PlacementStatus\"]\n",
    "X = placement_data.drop([\"PlacementStatus\"], axis=1)\n",
    "\n",
    "X_train, X_test, y_train, y_test = train_test_split(X, y, test_size=0.1, random_state=42)"
   ]
  },
  {
   "cell_type": "markdown",
   "metadata": {},
   "source": [
    "### Standardize data"
   ]
  },
  {
   "cell_type": "code",
   "execution_count": 59,
   "metadata": {},
   "outputs": [],
   "source": [
    "X_train = (X_train - X_train.mean()) / X_train.std()\n",
    "X_test = (X_test - X_test.mean()) / X_test.std()"
   ]
  },
  {
   "cell_type": "markdown",
   "metadata": {},
   "source": [
    "## Why not balance the data?\n",
    "\n",
    "I chose to use a diferent score instead of oversample the data. The problem with oversampling is that it changes the data in a way that might affect the real-world representation of it. It could lead to bad results. \n",
    "\n",
    "Balancing is not a bad solution, it just needs carefull consideration before using it.\n",
    "\n",
    "Read more [here](https://towardsdatascience.com/handling-imbalanced-datasets-in-machine-learning-7a0e84220f28)"
   ]
  },
  {
   "cell_type": "markdown",
   "metadata": {},
   "source": [
    "## Select best model\n",
    "\n",
    "Test multiple classification models to select the best one. The scoring used will be f1, which is good for unbalanced problems"
   ]
  },
  {
   "cell_type": "code",
   "execution_count": 60,
   "metadata": {},
   "outputs": [],
   "source": [
    "models = []\n",
    "models.append(('LR', LogisticRegression(solver='liblinear', multi_class='ovr')))\n",
    "models.append(('KNN', KNeighborsClassifier()))\n",
    "models.append(('TREE', DecisionTreeClassifier()))\n",
    "models.append(('SVM', SVC(gamma='auto', probability=True)))\n",
    "models.append(('GB', GradientBoostingClassifier()))\n",
    "models.append(('RF', RandomForestClassifier()))"
   ]
  },
  {
   "cell_type": "code",
   "execution_count": 61,
   "metadata": {},
   "outputs": [],
   "source": [
    "def runModels(X_train, Y_train, scoring='accuracy'):\n",
    "    for name, model in models:\n",
    "        kfold = StratifiedKFold(n_splits=5, random_state=42, shuffle=True)\n",
    "        cv_results = cross_val_score(model, X_train, Y_train, cv=kfold, scoring=scoring)\n",
    "        print('%s: %.6f (%.6f)' % (name, cv_results.mean(), cv_results.std()))"
   ]
  },
  {
   "cell_type": "code",
   "execution_count": 62,
   "metadata": {},
   "outputs": [
    {
     "name": "stdout",
     "output_type": "stream",
     "text": [
      "LR: 0.916166 (0.030777)\n",
      "KNN: 0.901322 (0.009171)\n",
      "TREE: 0.880351 (0.030511)\n",
      "SVM: 0.890309 (0.008945)\n",
      "GB: 0.915252 (0.026175)\n",
      "RF: 0.924010 (0.027055)\n"
     ]
    }
   ],
   "source": [
    "runModels(X_train, y_train, scoring='f1')"
   ]
  },
  {
   "cell_type": "markdown",
   "metadata": {},
   "source": [
    "Gradient Boosting and Random Forrest gives the best results. I will arbitrarily choose Random Forrest here, for no particular reason, as both of them are good."
   ]
  },
  {
   "cell_type": "code",
   "execution_count": 63,
   "metadata": {},
   "outputs": [],
   "source": [
    "# clf = LogisticRegression(solver='liblinear', multi_class='ovr').fit(X_train, y_train)\n",
    "\n",
    "clf = RandomForestClassifier().fit(X_train, y_train)\n",
    "\n",
    "# clf = GradientBoostingClassifier().fit(X_train, y_train)"
   ]
  },
  {
   "cell_type": "code",
   "execution_count": 64,
   "metadata": {},
   "outputs": [
    {
     "name": "stdout",
     "output_type": "stream",
     "text": [
      "Score:  0.8636363636363636\n",
      "Predicted:  [1 1 1 0 1 0 0 1 1 1 1 1 0 0 1 0 1 0 0 1 1 1]\n",
      "Expected:   [1 1 1 1 1 0 0 1 1 1 0 1 0 0 1 0 1 0 1 1 1 1]\n"
     ]
    }
   ],
   "source": [
    "print(\"Score: \", clf.score(X_test, y_test))\n",
    "print(\"Predicted: \", clf.predict(X_test))\n",
    "print(\"Expected:  \", y_test.values)"
   ]
  },
  {
   "cell_type": "markdown",
   "metadata": {},
   "source": [
    "So lets say you are a student who just graduated from the MBA and wants to know if you are going to get a job. Just create a row that describes your personal information (like Gender, scores, etc) and the model will predict if you are going to find a job or not with 86.6% probability. More training data would be necessary to improve the results."
   ]
  },
  {
   "cell_type": "markdown",
   "metadata": {},
   "source": [
    "## Problem 2: What are the major factors that affect the salary?\n",
    "\n",
    "As we saw in the data analysis phase, the most important features in this problem are MBA and the Employability Test grades, the degree and MBA areas of specialization, gender and work experience.\n",
    "\n",
    "I will build a model that predicts the salary of someone who just graduated from the MBA (assuming this person got hired). "
   ]
  },
  {
   "cell_type": "code",
   "execution_count": 65,
   "metadata": {},
   "outputs": [
    {
     "data": {
      "text/plain": [
       "DegreeSpecialization_Comm&Mgmt                 -0.160322\n",
       "MBASpecialization                              -0.146576\n",
       "HigherSecondarySchollSpecialization_Arts       -0.088253\n",
       "DegreeGrade%                                   -0.019272\n",
       "DegreeSpecialization_Others                    -0.016573\n",
       "HigherSecondarySchollSpecialization_Commerce   -0.014219\n",
       "LowerSecondarySchollGrade%                      0.035330\n",
       "HigherSecondarySchollSpecialization_Science     0.049547\n",
       "HigherSecondarySchollGrade%                     0.076819\n",
       "WorkExperience                                  0.136920\n",
       "Gender                                          0.158912\n",
       "DegreeSpecialization_Sci&Tech                   0.172492\n",
       "MBAGrade%                                       0.175013\n",
       "EmployabilityTestGrade%                         0.178307\n",
       "Salary                                          1.000000\n",
       "PlacementStatus                                      NaN\n",
       "Name: Salary, dtype: float64"
      ]
     },
     "execution_count": 65,
     "metadata": {},
     "output_type": "execute_result"
    }
   ],
   "source": [
    "salary_corr = data[data[\"PlacementStatus\"] == 1].corr()[\"Salary\"].sort_values()\n",
    "\n",
    "# Display correlations\n",
    "salary_corr # corr() returns NaN if all values are that same, which is the case with PlacementStatus"
   ]
  },
  {
   "cell_type": "code",
   "execution_count": 66,
   "metadata": {},
   "outputs": [
    {
     "name": "stdout",
     "output_type": "stream",
     "text": [
      "<class 'pandas.core.frame.DataFrame'>\n",
      "RangeIndex: 215 entries, 0 to 214\n",
      "Data columns (total 8 columns):\n",
      " #   Column                          Non-Null Count  Dtype  \n",
      "---  ------                          --------------  -----  \n",
      " 0   Salary                          148 non-null    float64\n",
      " 1   EmployabilityTestGrade%         215 non-null    float64\n",
      " 2   MBAGrade%                       215 non-null    float64\n",
      " 3   DegreeSpecialization_Sci&Tech   215 non-null    uint8  \n",
      " 4   DegreeSpecialization_Comm&Mgmt  215 non-null    uint8  \n",
      " 5   Gender                          215 non-null    int64  \n",
      " 6   WorkExperience                  215 non-null    int64  \n",
      " 7   MBASpecialization               215 non-null    int64  \n",
      "dtypes: float64(3), int64(3), uint8(2)\n",
      "memory usage: 10.6 KB\n"
     ]
    }
   ],
   "source": [
    "columns_to_keep = [\n",
    "    \"Salary\",\n",
    "    \"EmployabilityTestGrade%\",\n",
    "    \"MBAGrade%\",\n",
    "    \"DegreeSpecialization_Sci&Tech\",\n",
    "    \"DegreeSpecialization_Comm&Mgmt\",\n",
    "    \"Gender\",\n",
    "    \"WorkExperience\",\n",
    "    \"MBASpecialization\"\n",
    "]\n",
    "salary_data = data[columns_to_keep]\n",
    "\n",
    "salary_data.info()"
   ]
  },
  {
   "cell_type": "code",
   "execution_count": 67,
   "metadata": {},
   "outputs": [],
   "source": [
    "salary_data = salary_data[salary_data['Salary'].notna()]"
   ]
  },
  {
   "cell_type": "code",
   "execution_count": 68,
   "metadata": {},
   "outputs": [],
   "source": [
    "y = salary_data[\"Salary\"]\n",
    "X = salary_data.drop([\"Salary\"], axis=1)\n",
    "\n",
    "X_train, X_test, y_train, y_test = train_test_split(X, y, test_size=0.1, random_state=42)"
   ]
  },
  {
   "cell_type": "code",
   "execution_count": 69,
   "metadata": {},
   "outputs": [],
   "source": [
    "X_train = (X_train - X_train.mean()) / X_train.std()\n",
    "X_test = (X_test - X_test.mean()) / X_test.std()"
   ]
  },
  {
   "cell_type": "code",
   "execution_count": 70,
   "metadata": {},
   "outputs": [
    {
     "data": {
      "text/html": [
       "<div>\n",
       "<style scoped>\n",
       "    .dataframe tbody tr th:only-of-type {\n",
       "        vertical-align: middle;\n",
       "    }\n",
       "\n",
       "    .dataframe tbody tr th {\n",
       "        vertical-align: top;\n",
       "    }\n",
       "\n",
       "    .dataframe thead th {\n",
       "        text-align: right;\n",
       "    }\n",
       "</style>\n",
       "<table border=\"1\" class=\"dataframe\">\n",
       "  <thead>\n",
       "    <tr style=\"text-align: right;\">\n",
       "      <th></th>\n",
       "      <th>EmployabilityTestGrade%</th>\n",
       "      <th>MBAGrade%</th>\n",
       "      <th>DegreeSpecialization_Sci&amp;Tech</th>\n",
       "      <th>DegreeSpecialization_Comm&amp;Mgmt</th>\n",
       "      <th>Gender</th>\n",
       "      <th>WorkExperience</th>\n",
       "      <th>MBASpecialization</th>\n",
       "    </tr>\n",
       "  </thead>\n",
       "  <tbody>\n",
       "    <tr>\n",
       "      <th>95</th>\n",
       "      <td>1.605444</td>\n",
       "      <td>-0.038434</td>\n",
       "      <td>-0.606913</td>\n",
       "      <td>0.665057</td>\n",
       "      <td>0.700475</td>\n",
       "      <td>1.098872</td>\n",
       "      <td>-0.736480</td>\n",
       "    </tr>\n",
       "    <tr>\n",
       "      <th>27</th>\n",
       "      <td>-0.380194</td>\n",
       "      <td>-0.790559</td>\n",
       "      <td>-0.606913</td>\n",
       "      <td>0.665057</td>\n",
       "      <td>0.700475</td>\n",
       "      <td>-0.903182</td>\n",
       "      <td>1.347601</td>\n",
       "    </tr>\n",
       "    <tr>\n",
       "      <th>101</th>\n",
       "      <td>0.342908</td>\n",
       "      <td>-0.327842</td>\n",
       "      <td>-0.606913</td>\n",
       "      <td>0.665057</td>\n",
       "      <td>0.700475</td>\n",
       "      <td>-0.903182</td>\n",
       "      <td>1.347601</td>\n",
       "    </tr>\n",
       "    <tr>\n",
       "      <th>177</th>\n",
       "      <td>1.138320</td>\n",
       "      <td>1.417020</td>\n",
       "      <td>-0.606913</td>\n",
       "      <td>0.665057</td>\n",
       "      <td>-1.416869</td>\n",
       "      <td>1.098872</td>\n",
       "      <td>-0.736480</td>\n",
       "    </tr>\n",
       "    <tr>\n",
       "      <th>47</th>\n",
       "      <td>0.342908</td>\n",
       "      <td>-1.318897</td>\n",
       "      <td>-0.606913</td>\n",
       "      <td>0.665057</td>\n",
       "      <td>0.700475</td>\n",
       "      <td>1.098872</td>\n",
       "      <td>-0.736480</td>\n",
       "    </tr>\n",
       "    <tr>\n",
       "      <th>44</th>\n",
       "      <td>1.138320</td>\n",
       "      <td>1.230250</td>\n",
       "      <td>-0.606913</td>\n",
       "      <td>0.665057</td>\n",
       "      <td>-1.416869</td>\n",
       "      <td>1.098872</td>\n",
       "      <td>-0.736480</td>\n",
       "    </tr>\n",
       "    <tr>\n",
       "      <th>146</th>\n",
       "      <td>0.849079</td>\n",
       "      <td>-1.219623</td>\n",
       "      <td>-0.606913</td>\n",
       "      <td>0.665057</td>\n",
       "      <td>0.700475</td>\n",
       "      <td>-0.903182</td>\n",
       "      <td>1.347601</td>\n",
       "    </tr>\n",
       "    <tr>\n",
       "      <th>56</th>\n",
       "      <td>-0.380194</td>\n",
       "      <td>0.755756</td>\n",
       "      <td>-0.606913</td>\n",
       "      <td>0.665057</td>\n",
       "      <td>0.700475</td>\n",
       "      <td>-0.903182</td>\n",
       "      <td>-0.736480</td>\n",
       "    </tr>\n",
       "    <tr>\n",
       "      <th>164</th>\n",
       "      <td>-1.461954</td>\n",
       "      <td>0.526921</td>\n",
       "      <td>-0.606913</td>\n",
       "      <td>0.665057</td>\n",
       "      <td>-1.416869</td>\n",
       "      <td>-0.903182</td>\n",
       "      <td>-0.736480</td>\n",
       "    </tr>\n",
       "    <tr>\n",
       "      <th>80</th>\n",
       "      <td>-0.452504</td>\n",
       "      <td>-0.006465</td>\n",
       "      <td>-0.606913</td>\n",
       "      <td>0.665057</td>\n",
       "      <td>-1.416869</td>\n",
       "      <td>1.098872</td>\n",
       "      <td>1.347601</td>\n",
       "    </tr>\n",
       "  </tbody>\n",
       "</table>\n",
       "</div>"
      ],
      "text/plain": [
       "     EmployabilityTestGrade%  MBAGrade%  DegreeSpecialization_Sci&Tech  \\\n",
       "95                  1.605444  -0.038434                      -0.606913   \n",
       "27                 -0.380194  -0.790559                      -0.606913   \n",
       "101                 0.342908  -0.327842                      -0.606913   \n",
       "177                 1.138320   1.417020                      -0.606913   \n",
       "47                  0.342908  -1.318897                      -0.606913   \n",
       "44                  1.138320   1.230250                      -0.606913   \n",
       "146                 0.849079  -1.219623                      -0.606913   \n",
       "56                 -0.380194   0.755756                      -0.606913   \n",
       "164                -1.461954   0.526921                      -0.606913   \n",
       "80                 -0.452504  -0.006465                      -0.606913   \n",
       "\n",
       "     DegreeSpecialization_Comm&Mgmt    Gender  WorkExperience  \\\n",
       "95                         0.665057  0.700475        1.098872   \n",
       "27                         0.665057  0.700475       -0.903182   \n",
       "101                        0.665057  0.700475       -0.903182   \n",
       "177                        0.665057 -1.416869        1.098872   \n",
       "47                         0.665057  0.700475        1.098872   \n",
       "44                         0.665057 -1.416869        1.098872   \n",
       "146                        0.665057  0.700475       -0.903182   \n",
       "56                         0.665057  0.700475       -0.903182   \n",
       "164                        0.665057 -1.416869       -0.903182   \n",
       "80                         0.665057 -1.416869        1.098872   \n",
       "\n",
       "     MBASpecialization  \n",
       "95           -0.736480  \n",
       "27            1.347601  \n",
       "101           1.347601  \n",
       "177          -0.736480  \n",
       "47           -0.736480  \n",
       "44           -0.736480  \n",
       "146           1.347601  \n",
       "56           -0.736480  \n",
       "164          -0.736480  \n",
       "80            1.347601  "
      ]
     },
     "execution_count": 70,
     "metadata": {},
     "output_type": "execute_result"
    }
   ],
   "source": [
    "X_train.head(10)"
   ]
  },
  {
   "cell_type": "code",
   "execution_count": 71,
   "metadata": {},
   "outputs": [
    {
     "data": {
      "text/plain": [
       "95     420000.0\n",
       "27     265000.0\n",
       "101    380000.0\n",
       "177    650000.0\n",
       "47     204000.0\n",
       "44     200000.0\n",
       "146    233000.0\n",
       "56     240000.0\n",
       "164    250000.0\n",
       "80     240000.0\n",
       "Name: Salary, dtype: float64"
      ]
     },
     "execution_count": 71,
     "metadata": {},
     "output_type": "execute_result"
    }
   ],
   "source": [
    "y_train.head(10)"
   ]
  },
  {
   "cell_type": "code",
   "execution_count": 72,
   "metadata": {},
   "outputs": [],
   "source": [
    "def trainRegression(X, Y):\n",
    "    for degree in range(1, 4):\n",
    "        name = 'Linear Regression degree' + str(degree)\n",
    "        \n",
    "        polynomial_features = PolynomialFeatures(degree=degree)\n",
    "        X_poly = polynomial_features.fit_transform(X)\n",
    "        \n",
    "        model = LinearRegression()\n",
    "        \n",
    "        cv_results = cross_val_score(model, X_poly, Y, cv=10, scoring='r2')\n",
    "        print('%s: %.6f (%.6f)' % (name, cv_results.mean(), cv_results.std()))"
   ]
  },
  {
   "cell_type": "code",
   "execution_count": 73,
   "metadata": {},
   "outputs": [
    {
     "name": "stdout",
     "output_type": "stream",
     "text": [
      "Linear Regression degree1: -0.300547 (0.593319)\n",
      "Linear Regression degree2: -11474080042786769439031296.000000 (34006174268153605755240448.000000)\n",
      "Linear Regression degree3: -224065679139575382933504.000000 (366398083440114113970176.000000)\n"
     ]
    }
   ],
   "source": [
    "trainRegression(X_train, y_train)"
   ]
  },
  {
   "cell_type": "markdown",
   "metadata": {},
   "source": [
    "These results show that it is better to just use Linear Regression instead of polynomial regression"
   ]
  },
  {
   "cell_type": "code",
   "execution_count": 74,
   "metadata": {},
   "outputs": [
    {
     "name": "stdout",
     "output_type": "stream",
     "text": [
      "[303555.88575642 302070.63156475 253695.20532424 306526.57108331\n",
      " 291716.43907118 241686.34186756 239362.40691229 280510.03222008\n",
      " 322901.97097687 279396.03079504 319113.87953033 296539.86383578\n",
      " 322601.86041505 275781.6899594  272699.08542453]\n",
      "[350000. 336000. 260000. 350000. 400000. 265000. 250000. 250000. 240000.\n",
      " 200000. 411000. 250000. 400000. 300000. 260000.]\n",
      "0.2345222596661578\n"
     ]
    }
   ],
   "source": [
    "model = LinearRegression()\n",
    "model.fit(X_train, y_train)\n",
    "print(model.predict(X_test))\n",
    "print(y_test.values)\n",
    "print(r2_score(y_test, model.predict(X_test)))"
   ]
  },
  {
   "cell_type": "markdown",
   "metadata": {},
   "source": [
    "Results are not great, but the amount of data does not help very much"
   ]
  },
  {
   "cell_type": "markdown",
   "metadata": {},
   "source": [
    "## Problem 3: Can the institution predict if the person will be successfull before they are accepted?\n",
    "\n",
    "Here, the idea is that the institution would like to know beforehand if someone would fail to find a job after the MBA. The objective is to avoid accepting people that would not find a job and increase the employability rate of the institution.\n",
    "\n",
    "For that, we will keep just the information that are previous to the MBA and see if it is enough to predict the employability of a candidate"
   ]
  },
  {
   "cell_type": "code",
   "execution_count": 75,
   "metadata": {},
   "outputs": [
    {
     "name": "stdout",
     "output_type": "stream",
     "text": [
      "<class 'pandas.core.frame.DataFrame'>\n",
      "RangeIndex: 215 entries, 0 to 214\n",
      "Data columns (total 16 columns):\n",
      " #   Column                                        Non-Null Count  Dtype  \n",
      "---  ------                                        --------------  -----  \n",
      " 0   Gender                                        215 non-null    int64  \n",
      " 1   LowerSecondarySchollGrade%                    215 non-null    float64\n",
      " 2   HigherSecondarySchollGrade%                   215 non-null    float64\n",
      " 3   DegreeGrade%                                  215 non-null    float64\n",
      " 4   WorkExperience                                215 non-null    int64  \n",
      " 5   EmployabilityTestGrade%                       215 non-null    float64\n",
      " 6   MBASpecialization                             215 non-null    int64  \n",
      " 7   MBAGrade%                                     215 non-null    float64\n",
      " 8   PlacementStatus                               215 non-null    int64  \n",
      " 9   Salary                                        148 non-null    float64\n",
      " 10  HigherSecondarySchollSpecialization_Arts      215 non-null    uint8  \n",
      " 11  HigherSecondarySchollSpecialization_Commerce  215 non-null    uint8  \n",
      " 12  HigherSecondarySchollSpecialization_Science   215 non-null    uint8  \n",
      " 13  DegreeSpecialization_Comm&Mgmt                215 non-null    uint8  \n",
      " 14  DegreeSpecialization_Others                   215 non-null    uint8  \n",
      " 15  DegreeSpecialization_Sci&Tech                 215 non-null    uint8  \n",
      "dtypes: float64(6), int64(4), uint8(6)\n",
      "memory usage: 18.2 KB\n"
     ]
    }
   ],
   "source": [
    "data.info()"
   ]
  },
  {
   "cell_type": "code",
   "execution_count": 76,
   "metadata": {},
   "outputs": [],
   "source": [
    "columns_to_keep = {\n",
    "    \"Gender\",\n",
    "    \"LowerSecondarySchollGrade%\",\n",
    "    \"HigherSecondarySchollGrade%\",\n",
    "    \"DegreeGrade%\",\n",
    "    \"WorkExperience\",\n",
    "    \"MBASpecialization\", # This one is about the MBA but the institution would already know it beforehand\n",
    "    \"HigherSecondarySchollSpecialization_Arts\",\n",
    "    \"HigherSecondarySchollSpecialization_Commerce\",\n",
    "    \"HigherSecondarySchollSpecialization_Science\",\n",
    "    \"DegreeSpecialization_Comm&Mgmt\",\n",
    "    \"DegreeSpecialization_Others\",\n",
    "    \"DegreeSpecialization_Sci&Tech\",\n",
    "    \"PlacementStatus\"\n",
    "}\n",
    "\n",
    "before_mba_data = data[columns_to_keep]"
   ]
  },
  {
   "cell_type": "markdown",
   "metadata": {},
   "source": [
    "The knowlodge from the data analysis phase can tell us what are the best features. \n",
    "\n",
    "> \"Things like MBA area of specialization, experience and grades are the most important here.\""
   ]
  },
  {
   "cell_type": "code",
   "execution_count": 77,
   "metadata": {},
   "outputs": [
    {
     "data": {
      "text/plain": [
       "MBASpecialization                              -0.250655\n",
       "DegreeSpecialization_Others                    -0.117232\n",
       "HigherSecondarySchollSpecialization_Arts       -0.071653\n",
       "HigherSecondarySchollSpecialization_Science     0.007279\n",
       "DegreeSpecialization_Sci&Tech                   0.008688\n",
       "HigherSecondarySchollSpecialization_Commerce    0.024414\n",
       "DegreeSpecialization_Comm&Mgmt                  0.046849\n",
       "Gender                                          0.090670\n",
       "WorkExperience                                  0.276060\n",
       "DegreeGrade%                                    0.479861\n",
       "HigherSecondarySchollGrade%                     0.491228\n",
       "LowerSecondarySchollGrade%                      0.607889\n",
       "PlacementStatus                                 1.000000\n",
       "Name: PlacementStatus, dtype: float64"
      ]
     },
     "execution_count": 77,
     "metadata": {},
     "output_type": "execute_result"
    }
   ],
   "source": [
    "placement_corr = before_mba_data.corr()[\"PlacementStatus\"].sort_values()\n",
    "\n",
    "# Display correlations\n",
    "placement_corr # Here we are looking at PlacementStatus, so Salary is not important and we will ignore the NaN"
   ]
  },
  {
   "cell_type": "markdown",
   "metadata": {},
   "source": [
    "Remove the columns that are not closely related to the problem"
   ]
  },
  {
   "cell_type": "code",
   "execution_count": 78,
   "metadata": {},
   "outputs": [],
   "source": [
    "columns_to_keep = {\n",
    "    \"Gender\",\n",
    "    \"LowerSecondarySchollGrade%\",\n",
    "    \"HigherSecondarySchollGrade%\",\n",
    "    \"DegreeGrade%\",\n",
    "    \"WorkExperience\",\n",
    "    \"MBASpecialization\", # This one is about the MBA but the institution would already know it beforehand\n",
    "#     \"HigherSecondarySchollSpecialization_Arts\",\n",
    "#     \"HigherSecondarySchollSpecialization_Commerce\",\n",
    "#     \"HigherSecondarySchollSpecialization_Science\",\n",
    "#     \"DegreeSpecialization_Comm&Mgmt\",\n",
    "#     \"DegreeSpecialization_Others\",\n",
    "#     \"DegreeSpecialization_Sci&Tech\",\n",
    "    \"PlacementStatus\"\n",
    "}\n",
    "\n",
    "before_mba_data = data[columns_to_keep]"
   ]
  },
  {
   "cell_type": "markdown",
   "metadata": {},
   "source": [
    "**Notice here we are with the same columns as the problem 1. So the problem 1 results can be reused in this problem**"
   ]
  }
 ],
 "metadata": {
  "kernelspec": {
   "display_name": "Python 3",
   "language": "python",
   "name": "python3"
  },
  "language_info": {
   "codemirror_mode": {
    "name": "ipython",
    "version": 3
   },
   "file_extension": ".py",
   "mimetype": "text/x-python",
   "name": "python",
   "nbconvert_exporter": "python",
   "pygments_lexer": "ipython3",
   "version": "3.8.5"
  }
 },
 "nbformat": 4,
 "nbformat_minor": 4
}
